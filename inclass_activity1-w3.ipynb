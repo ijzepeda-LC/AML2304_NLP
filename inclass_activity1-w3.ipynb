{
 "cells": [
  {
   "cell_type": "markdown",
   "id": "2d2696f4",
   "metadata": {},
   "source": [
    "# NLP AML2304\n",
    "## Ivan Zepeda C0883949\n"
   ]
  },
  {
   "cell_type": "code",
   "execution_count": 1,
   "id": "6dab6f93",
   "metadata": {},
   "outputs": [
    {
     "name": "stderr",
     "output_type": "stream",
     "text": [
      "[nltk_data] Error loading english: Package 'english' not found in\n",
      "[nltk_data]     index\n"
     ]
    },
    {
     "data": {
      "text/plain": [
       "False"
      ]
     },
     "execution_count": 1,
     "metadata": {},
     "output_type": "execute_result"
    }
   ],
   "source": [
    "import nltk\n",
    "from nltk.tokenize import sent_tokenize\n",
    "# nltk.download('all')\n",
    "# nltk.download('punkt')\n",
    "# nltk.download('stopwords')\n",
    "nltk.download(\"english\")\n",
    "# nltk.download('wordnet')\n",
    "# nltk.download('omw-1.4')\n",
    "\n",
    "# nltk.download('spanish')\n",
    "# nltk.download('stopwords')\n"
   ]
  },
  {
   "cell_type": "code",
   "execution_count": 2,
   "id": "36e91093",
   "metadata": {},
   "outputs": [
    {
     "name": "stdout",
     "output_type": "stream",
     "text": [
      "['It even knows that the period in mr. Jones  and dr. Joanna is not the end in On., Canada.', 'Try it Out']\n"
     ]
    }
   ],
   "source": [
    "sample=\"HEllo world. Let's make this our sample paragraph. It even knows that the period in Mr. Jones is not the end. Try it Out\"\n",
    "sample=\"It even knows that the period in mr. Jones  and dr. Joanna is not the end in On., Canada. Try it Out\"\n",
    "\n",
    "tokenize_sent = sent_tokenize(sample)\n",
    "print(tokenize_sent)\n",
    "\n",
    "\n"
   ]
  },
  {
   "cell_type": "code",
   "execution_count": 3,
   "id": "fb445932",
   "metadata": {},
   "outputs": [
    {
     "name": "stdout",
     "output_type": "stream",
     "text": [
      "['Hey Everyone', ' the party starts in 1-mins. be there asap', '']\n",
      "['Hi']\n",
      "['Hey', 'Everyone!', 'the', 'party', 'starts', 'in', '1-mins.', 'be', 'there', 'asap!']\n"
     ]
    }
   ],
   "source": [
    "msg =\"Hey Everyone! the party starts in 1-mins. be there asap!\"\n",
    "msg1=\" Hi \"\n",
    "print(msg.split('!'))\n",
    "print(msg1.split())\n",
    "print(msg.split())\n"
   ]
  },
  {
   "cell_type": "code",
   "execution_count": 4,
   "id": "09d0b760",
   "metadata": {},
   "outputs": [
    {
     "name": "stdout",
     "output_type": "stream",
     "text": [
      "['Hey', 'Everyone', '!', 'the', 'party', 'starts', 'in', '1-mins', '.', 'be', 'there', 'asap', '!']\n"
     ]
    }
   ],
   "source": [
    "from nltk.tokenize import word_tokenize\n",
    "tokenized_word = word_tokenize(msg)\n",
    "print(tokenized_word)"
   ]
  },
  {
   "cell_type": "code",
   "execution_count": 5,
   "id": "c942afb7",
   "metadata": {},
   "outputs": [
    {
     "data": {
      "text/plain": [
       "'run'"
      ]
     },
     "execution_count": 5,
     "metadata": {},
     "output_type": "execute_result"
    }
   ],
   "source": [
    "from nltk.stem import PorterStemmer\n",
    "porter = PorterStemmer()\n",
    "porter.stem('running')"
   ]
  },
  {
   "cell_type": "code",
   "execution_count": 6,
   "id": "70044289",
   "metadata": {},
   "outputs": [
    {
     "name": "stdout",
     "output_type": "stream",
     "text": [
      "cri\n",
      "ate\n",
      "cycl\n",
      "play\n",
      "univers\n",
      "univers\n"
     ]
    }
   ],
   "source": [
    "words=['crying','ate','cycling','played',\"University\",\"universal\"]\n",
    "for w in words:\n",
    "    print(porter.stem(w))"
   ]
  },
  {
   "cell_type": "code",
   "execution_count": 7,
   "id": "b72770ae",
   "metadata": {},
   "outputs": [
    {
     "name": "stdout",
     "output_type": "stream",
     "text": [
      "running\n",
      "run\n"
     ]
    }
   ],
   "source": [
    "from nltk.stem import WordNetLemmatizer\n",
    "lem = WordNetLemmatizer()\n",
    "print(lem.lemmatize(word=\"running\", pos='n'))\n",
    "print(lem.lemmatize(word=\"running\", pos='v'))\n"
   ]
  },
  {
   "cell_type": "code",
   "execution_count": 8,
   "id": "c085c905",
   "metadata": {},
   "outputs": [
    {
     "name": "stdout",
     "output_type": "stream",
     "text": [
      "run\n"
     ]
    }
   ],
   "source": [
    "print(lem.lemmatize(word=\"run\", pos='v'))\n"
   ]
  },
  {
   "cell_type": "markdown",
   "id": "063bfc50",
   "metadata": {},
   "source": [
    "## Stop Words"
   ]
  },
  {
   "cell_type": "code",
   "execution_count": 9,
   "id": "a26ac2ae",
   "metadata": {},
   "outputs": [],
   "source": [
    "from nltk.corpus import stopwords\n",
    "stopwords = stopwords.words('english')"
   ]
  },
  {
   "cell_type": "code",
   "execution_count": 10,
   "id": "70291122",
   "metadata": {},
   "outputs": [
    {
     "name": "stdout",
     "output_type": "stream",
     "text": [
      "179\n",
      "['i', 'me', 'my', 'myself', 'we', 'our', 'ours', 'ourselves', 'you', \"you're\", \"you've\", \"you'll\", \"you'd\", 'your', 'yours', 'yourself', 'yourselves', 'he', 'him', 'his', 'himself', 'she', \"she's\", 'her', 'hers', 'herself', 'it', \"it's\", 'its', 'itself', 'they', 'them', 'their', 'theirs', 'themselves', 'what', 'which', 'who', 'whom', 'this', 'that', \"that'll\", 'these', 'those', 'am', 'is', 'are', 'was', 'were', 'be', 'been', 'being', 'have', 'has', 'had', 'having', 'do', 'does', 'did', 'doing', 'a', 'an', 'the', 'and', 'but', 'if', 'or', 'because', 'as', 'until', 'while', 'of', 'at', 'by', 'for', 'with', 'about', 'against', 'between', 'into', 'through', 'during', 'before', 'after', 'above', 'below', 'to', 'from', 'up', 'down', 'in', 'out', 'on', 'off', 'over', 'under', 'again', 'further', 'then', 'once', 'here', 'there', 'when', 'where', 'why', 'how', 'all', 'any', 'both', 'each', 'few', 'more', 'most', 'other', 'some', 'such', 'no', 'nor', 'not', 'only', 'own', 'same', 'so', 'than', 'too', 'very', 's', 't', 'can', 'will', 'just', 'don', \"don't\", 'should', \"should've\", 'now', 'd', 'll', 'm', 'o', 're', 've', 'y', 'ain', 'aren', \"aren't\", 'couldn', \"couldn't\", 'didn', \"didn't\", 'doesn', \"doesn't\", 'hadn', \"hadn't\", 'hasn', \"hasn't\", 'haven', \"haven't\", 'isn', \"isn't\", 'ma', 'mightn', \"mightn't\", 'mustn', \"mustn't\", 'needn', \"needn't\", 'shan', \"shan't\", 'shouldn', \"shouldn't\", 'wasn', \"wasn't\", 'weren', \"weren't\", 'won', \"won't\", 'wouldn', \"wouldn't\"]\n"
     ]
    }
   ],
   "source": [
    "print(len(stopwords))\n",
    "print(stopwords)"
   ]
  },
  {
   "cell_type": "code",
   "execution_count": 11,
   "id": "6ff25dd5",
   "metadata": {},
   "outputs": [],
   "source": [
    "\n",
    "# stopwords = stopwords.words('spanish')\n",
    "# print(len(stopwords))\n",
    "# print(stopwords)"
   ]
  },
  {
   "cell_type": "code",
   "execution_count": null,
   "id": "fc235813",
   "metadata": {},
   "outputs": [],
   "source": []
  },
  {
   "cell_type": "markdown",
   "id": "0964d1f8",
   "metadata": {},
   "source": [
    "# Activity 1 W3"
   ]
  },
  {
   "cell_type": "code",
   "execution_count": 12,
   "id": "78a107fa",
   "metadata": {},
   "outputs": [
    {
     "name": "stdout",
     "output_type": "stream",
     "text": [
      "['i', 'me', 'my', 'myself', 'we', 'our', 'ours', 'ourselves', 'you', \"you're\", \"you've\", \"you'll\", \"you'd\", 'your', 'yours', 'yourself', 'yourselves', 'he', 'him', 'his', 'himself', 'she', \"she's\", 'her', 'hers', 'herself', 'it', \"it's\", 'its', 'itself', 'they', 'them', 'their', 'theirs', 'themselves', 'what', 'which', 'who', 'whom', 'this', 'that', \"that'll\", 'these', 'those', 'am', 'is', 'are', 'was', 'were', 'be', 'been', 'being', 'have', 'has', 'had', 'having', 'do', 'does', 'did', 'doing', 'a', 'an', 'the', 'and', 'but', 'if', 'or', 'because', 'as', 'until', 'while', 'of', 'at', 'by', 'for', 'with', 'about', 'against', 'between', 'into', 'through', 'during', 'before', 'after', 'above', 'below', 'to', 'from', 'up', 'down', 'in', 'out', 'on', 'off', 'over', 'under', 'again', 'further', 'then', 'once', 'here', 'there', 'when', 'where', 'why', 'how', 'all', 'any', 'both', 'each', 'few', 'more', 'most', 'other', 'some', 'such', 'no', 'nor', 'not', 'only', 'own', 'same', 'so', 'than', 'too', 'very', 's', 't', 'can', 'will', 'just', 'don', \"don't\", 'should', \"should've\", 'now', 'd', 'll', 'm', 'o', 're', 've', 'y', 'ain', 'aren', \"aren't\", 'couldn', \"couldn't\", 'didn', \"didn't\", 'doesn', \"doesn't\", 'hadn', \"hadn't\", 'hasn', \"hasn't\", 'haven', \"haven't\", 'isn', \"isn't\", 'ma', 'mightn', \"mightn't\", 'mustn', \"mustn't\", 'needn', \"needn't\", 'shan', \"shan't\", 'shouldn', \"shouldn't\", 'wasn', \"wasn't\", 'weren', \"weren't\", 'won', \"won't\", 'wouldn', \"wouldn't\"]\n"
     ]
    }
   ],
   "source": [
    "print(stopwords)"
   ]
  },
  {
   "cell_type": "markdown",
   "id": "bf858359",
   "metadata": {},
   "source": [
    "## Stop worrds removal"
   ]
  },
  {
   "cell_type": "code",
   "execution_count": 20,
   "id": "dd837e7a",
   "metadata": {},
   "outputs": [
    {
     "data": {
      "text/plain": [
       "['a',\n",
       " 'sentence',\n",
       " 'is',\n",
       " 'a',\n",
       " 'textual',\n",
       " 'unit',\n",
       " 'consisting',\n",
       " 'of',\n",
       " 'words',\n",
       " 'that',\n",
       " 'are',\n",
       " 'grammatically',\n",
       " 'linked',\n",
       " '123',\n",
       " '2akd',\n",
       " '.']"
      ]
     },
     "execution_count": 20,
     "metadata": {},
     "output_type": "execute_result"
    }
   ],
   "source": [
    "text =\"A sentence is a textual unit consisting of words that are grammatically linked 123 2akd.\"\n",
    "from nltk.tokenize import word_tokenize\n",
    "tokenized_words = word_tokenize(text.lower())\n",
    "tokenized_words"
   ]
  },
  {
   "cell_type": "code",
   "execution_count": 21,
   "id": "15fabc14",
   "metadata": {},
   "outputs": [
    {
     "data": {
      "text/plain": [
       "['sentence',\n",
       " 'textual',\n",
       " 'unit',\n",
       " 'consisting',\n",
       " 'words',\n",
       " 'grammatically',\n",
       " 'linked',\n",
       " '123',\n",
       " '2akd',\n",
       " '.']"
      ]
     },
     "execution_count": 21,
     "metadata": {},
     "output_type": "execute_result"
    }
   ],
   "source": [
    "from nltk.corpus import stopwords\n",
    "stopwords = stopwords.words('english')\n",
    "filtered_tokens = []\n",
    "#loop through token words, and compare to list, reduce the time complexity\n",
    "for token in tokenized_words:\n",
    "    if token not in stopwords:\n",
    "        filtered_tokens.append(token)\n",
    "filtered_tokens\n",
    "        \n",
    "    # okenized_word: ['Hey', 'Everyone', '!', 'party', 'starts', '1-mins', '.', 'asap', '!']\n",
    "# STOPWORDS and comparison arenot lowercase"
   ]
  },
  {
   "cell_type": "code",
   "execution_count": 23,
   "id": "c80bd934",
   "metadata": {},
   "outputs": [
    {
     "name": "stdout",
     "output_type": "stream",
     "text": [
      ".\n"
     ]
    }
   ],
   "source": [
    "for token in tokenized_words:\n",
    "    if not token.isalnum():\n",
    "        print(token)"
   ]
  },
  {
   "cell_type": "code",
   "execution_count": 24,
   "id": "a35590a2",
   "metadata": {},
   "outputs": [
    {
     "data": {
      "text/plain": [
       "['#', '#', '#', '#']"
      ]
     },
     "execution_count": 24,
     "metadata": {},
     "output_type": "execute_result"
    }
   ],
   "source": [
    "import re\n",
    "tweet = \"Hellow guys, this is my first #tweet. Check this @joy! #nlp #machine #learning\"\n",
    "re.findall(\"#\",tweet)"
   ]
  },
  {
   "cell_type": "code",
   "execution_count": 26,
   "id": "9319a898",
   "metadata": {},
   "outputs": [
    {
     "name": "stdout",
     "output_type": "stream",
     "text": [
      "Hellow guys, this is my first _tweet. Check this @joy! _nlp _machine _learning\n"
     ]
    },
    {
     "data": {
      "text/plain": [
       "'Hellow guys, this is my first _tweet. Check this @joy! _nlp _machine _learning'"
      ]
     },
     "execution_count": 26,
     "metadata": {},
     "output_type": "execute_result"
    }
   ],
   "source": [
    "# This wont be directly assigned to the original variable\n",
    "print(re.sub(\"#\",\"_\", tweet) )\n",
    "#but it can be reassigned\n",
    "new_tweet=re.sub(\"#\",\"_\", tweet)\n",
    "new_tweet"
   ]
  },
  {
   "cell_type": "markdown",
   "id": "e27f5055",
   "metadata": {},
   "source": [
    "\n",
    "## RE EXAMPLES\n",
    "\n",
    "- \\A"
   ]
  },
  {
   "cell_type": "code",
   "execution_count": 131,
   "id": "21ac1e8a",
   "metadata": {},
   "outputs": [
    {
     "name": "stdout",
     "output_type": "stream",
     "text": [
      "['The']\n",
      "[]\n"
     ]
    }
   ],
   "source": [
    "text=\"The categorical cat Hello mycat\"\n",
    "text1=\"cateforical cat hello The mycat\"\n",
    "print(re.findall(r'\\AThe',text))\n",
    "print(re.findall(r'\\AThe',text1))"
   ]
  },
  {
   "cell_type": "markdown",
   "id": "963c0fb3",
   "metadata": {},
   "source": [
    "- \\b"
   ]
  },
  {
   "cell_type": "code",
   "execution_count": 28,
   "id": "356c4a8c",
   "metadata": {},
   "outputs": [
    {
     "name": "stdout",
     "output_type": "stream",
     "text": [
      "['cat', 'cat']\n",
      "['cat', 'cat']\n",
      "['cat']\n"
     ]
    }
   ],
   "source": [
    "print(re.findall(r'\\bcat',text)) #starting with 'cat'\n",
    "print(re.findall(r'cat\\b',text)) #ending with word 'cat'\n",
    "print(re.findall(r'\\bcat\\b',text))#starting and ending in 'cat'\n",
    "\n",
    "\n"
   ]
  },
  {
   "cell_type": "code",
   "execution_count": 30,
   "id": "e385061f",
   "metadata": {},
   "outputs": [
    {
     "name": "stdout",
     "output_type": "stream",
     "text": [
      "Word: cat, Start Index: 4, End Index: 7\n",
      "Word: cat, Start Index: 16, End Index: 19\n",
      "Word: cat, Start Index: 28, End Index: 31\n"
     ]
    }
   ],
   "source": [
    "re.findall(r'cat',text)\n",
    "\n",
    "\n",
    "matches = re.finditer(r'cat', text)\n",
    "\n",
    "for match in matches:\n",
    "    word = match.group()\n",
    "    start_index, end_index = match.span()\n",
    "    print(f\"Word: {word}, Start Index: {start_index}, End Index: {end_index}\")"
   ]
  },
  {
   "cell_type": "markdown",
   "id": "7759ce6d",
   "metadata": {},
   "source": [
    "- \\B\n",
    "a word not starting with"
   ]
  },
  {
   "cell_type": "code",
   "execution_count": 56,
   "id": "e75ab10a",
   "metadata": {},
   "outputs": [
    {
     "name": "stdout",
     "output_type": "stream",
     "text": [
      "['zi']\n",
      "['zi', 'zi']\n",
      "['amazing']\n"
     ]
    }
   ],
   "source": [
    "t1=\"English is amazing language zizazo zoza\"\n",
    "print(re.findall(r'\\Bzi',t1))\n",
    "print(re.findall(r'zi\\B',t1))\n",
    "\n",
    "pattern=r\"\\b\\w*\\Bzi\\w*\\b\"\n",
    "print(re.findall(pattern,t1))\n"
   ]
  },
  {
   "cell_type": "markdown",
   "id": "00b7198b",
   "metadata": {},
   "source": [
    "- \\d  \n",
    "digits"
   ]
  },
  {
   "cell_type": "code",
   "execution_count": 105,
   "id": "e8cb062a",
   "metadata": {},
   "outputs": [
    {
     "name": "stdout",
     "output_type": "stream",
     "text": [
      "['4', '1', '6', '5', '5', '5', '9', '9', '9', '9', '2', '5']\n",
      "['(416)-', '555-', '9999', '2', '5']\n"
     ]
    }
   ],
   "source": [
    "text=\"mi phone number is (416)-555-9999 but my 2nd number is the same but ends in 5 digit\"\n",
    "print(re.findall('\\d',text))\n",
    "\n",
    "pat=\"([-\\(\\)]*\\d+[-\\(\\)]*)\"\n",
    "print(re.findall(pat,text))"
   ]
  },
  {
   "cell_type": "markdown",
   "id": "9c60288c",
   "metadata": {},
   "source": [
    "- \\D  \n",
    "NOT digits"
   ]
  },
  {
   "cell_type": "code",
   "execution_count": 81,
   "id": "56b69a97",
   "metadata": {},
   "outputs": [
    {
     "name": "stdout",
     "output_type": "stream",
     "text": [
      "mi phone number is ()-- but my nd number is the same but ends in \n"
     ]
    }
   ],
   "source": [
    "t2=\"This is an 2 amazing classroom , 4 every onespeaks English 123. classy! !!!\"\n",
    "r=re.findall(\"\\D\",text)\n",
    "print(\"\".join(r))\n"
   ]
  },
  {
   "cell_type": "markdown",
   "id": "f925d8c2",
   "metadata": {},
   "source": [
    "- \\s  \n",
    "white spaces\n"
   ]
  },
  {
   "cell_type": "code",
   "execution_count": 82,
   "id": "087863ab",
   "metadata": {},
   "outputs": [
    {
     "name": "stdout",
     "output_type": "stream",
     "text": [
      "[' ', ' ', ' ', ' ', ' ', ' ', ' ', ' ', ' ', ' ', ' ', ' ', ' ', ' ', ' ']\n"
     ]
    }
   ],
   "source": [
    "print(re.findall('\\s',text))"
   ]
  },
  {
   "cell_type": "markdown",
   "id": "c6e2d646",
   "metadata": {},
   "source": [
    "- \\S  \n",
    "non white spaces"
   ]
  },
  {
   "cell_type": "code",
   "execution_count": 83,
   "id": "886242d0",
   "metadata": {},
   "outputs": [
    {
     "name": "stdout",
     "output_type": "stream",
     "text": [
      "['m', 'i', 'p', 'h', 'o', 'n', 'e', 'n', 'u', 'm', 'b', 'e', 'r', 'i', 's', '(', '4', '1', '6', ')', '-', '5', '5', '5', '-', '9', '9', '9', '9', 'b', 'u', 't', 'm', 'y', '2', 'n', 'd', 'n', 'u', 'm', 'b', 'e', 'r', 'i', 's', 't', 'h', 'e', 's', 'a', 'm', 'e', 'b', 'u', 't', 'e', 'n', 'd', 's', 'i', 'n', '5']\n"
     ]
    }
   ],
   "source": [
    "print(re.findall('\\S',text))"
   ]
  },
  {
   "cell_type": "markdown",
   "id": "50243483",
   "metadata": {},
   "source": [
    "## I prefer to use a function, to be repeating code"
   ]
  },
  {
   "cell_type": "code",
   "execution_count": 106,
   "id": "c1a8e061",
   "metadata": {},
   "outputs": [],
   "source": [
    "\n",
    "\n",
    "def getre(pat, text=text, join=False):\n",
    "    r=re.findall(pat,text)\n",
    "    if(join):\n",
    "        print(\"\".join(r))\n",
    "    else:\n",
    "        print(r)\n",
    "    \n",
    "    print(len(r))"
   ]
  },
  {
   "cell_type": "markdown",
   "id": "deee5a3e",
   "metadata": {},
   "source": [
    "- \\w  \n",
    "all whitespace, '.' , ',', '!'"
   ]
  },
  {
   "cell_type": "code",
   "execution_count": 90,
   "id": "0eaa1ea8",
   "metadata": {},
   "outputs": [
    {
     "name": "stdout",
     "output_type": "stream",
     "text": [
      "['m', 'i', 'p', 'h', 'o', 'n', 'e', 'n', 'u', 'm', 'b', 'e', 'r', 'i', 's', '4', '1', '6', '5', '5', '5', '9', '9', '9', '9', 'b', 'u', 't', 'm', 'y', '2', 'n', 'd', 'n', 'u', 'm', 'b', 'e', 'r', 'i', 's', 't', 'h', 'e', 's', 'a', 'm', 'e', 'b', 'u', 't', 'e', 'n', 'd', 's', 'i', 'n', '5']\n",
      "58\n"
     ]
    }
   ],
   "source": [
    "getre('\\w')"
   ]
  },
  {
   "cell_type": "markdown",
   "id": "780b6fbb",
   "metadata": {},
   "source": [
    "- \\W  \n",
    "All NON space, comma, period, exclamation"
   ]
  },
  {
   "cell_type": "code",
   "execution_count": 89,
   "id": "5b1c4718",
   "metadata": {},
   "outputs": [
    {
     "name": "stdout",
     "output_type": "stream",
     "text": [
      "[' ', ' ', ' ', ' ', '(', ')', '-', '-', ' ', ' ', ' ', ' ', ' ', ' ', ' ', ' ', ' ', ' ', ' ']\n",
      "19\n"
     ]
    }
   ],
   "source": [
    "getre('\\W')"
   ]
  },
  {
   "cell_type": "markdown",
   "id": "c95a652c",
   "metadata": {},
   "source": [
    "- \\Z\n",
    "return the word (the word digit i.e.) if at the end"
   ]
  },
  {
   "cell_type": "code",
   "execution_count": 108,
   "id": "5c625c00",
   "metadata": {},
   "outputs": [
    {
     "name": "stdout",
     "output_type": "stream",
     "text": [
      "['digit']\n",
      "1\n"
     ]
    }
   ],
   "source": [
    "getre(r'digit\\Z')"
   ]
  },
  {
   "cell_type": "code",
   "execution_count": 107,
   "id": "2e8c099b",
   "metadata": {},
   "outputs": [
    {
     "name": "stdout",
     "output_type": "stream",
     "text": [
      "['digit']\n"
     ]
    }
   ],
   "source": [
    "print(re.findall('digit\\Z',text))"
   ]
  },
  {
   "cell_type": "markdown",
   "id": "3a9f067f",
   "metadata": {},
   "source": [
    "- [a-z]  \n",
    "get a range of elements, letters or numbers"
   ]
  },
  {
   "cell_type": "code",
   "execution_count": 113,
   "id": "a541871b",
   "metadata": {},
   "outputs": [
    {
     "name": "stdout",
     "output_type": "stream",
     "text": [
      "mi phone number is  but my nd number is the same but ends in  digit\n",
      "67\n"
     ]
    }
   ],
   "source": [
    "getre('[a-z ]',join=True)"
   ]
  },
  {
   "cell_type": "markdown",
   "id": "5488c9ad",
   "metadata": {},
   "source": [
    "- ø(dot)"
   ]
  },
  {
   "cell_type": "code",
   "execution_count": 126,
   "id": "57a3504a",
   "metadata": {},
   "outputs": [
    {
     "name": "stdout",
     "output_type": "stream",
     "text": [
      "['number', 'number']\n",
      "2\n"
     ]
    }
   ],
   "source": [
    "getre('n.{,5}r')"
   ]
  },
  {
   "cell_type": "markdown",
   "id": "8eabf06d",
   "metadata": {},
   "source": [
    "- ^  \n",
    "look for string at the beginning of line"
   ]
  },
  {
   "cell_type": "code",
   "execution_count": 130,
   "id": "cb00dd74",
   "metadata": {},
   "outputs": [
    {
     "name": "stdout",
     "output_type": "stream",
     "text": [
      "['mi']\n",
      "1\n"
     ]
    }
   ],
   "source": [
    "getre('^mi')"
   ]
  },
  {
   "cell_type": "code",
   "execution_count": 129,
   "id": "9768e157",
   "metadata": {},
   "outputs": [
    {
     "data": {
      "text/plain": [
       "'mi phone number is (416)-555-9999 but my 2nd number is the same but ends in 5 digit'"
      ]
     },
     "execution_count": 129,
     "metadata": {},
     "output_type": "execute_result"
    }
   ],
   "source": [
    "text"
   ]
  },
  {
   "cell_type": "code",
   "execution_count": 133,
   "id": "849782a6",
   "metadata": {},
   "outputs": [
    {
     "name": "stdout",
     "output_type": "stream",
     "text": [
      "Using \\A:\n",
      "<re.Match object; span=(0, 5), match='Hello'>\n",
      "\n",
      "Using ^:\n",
      "<re.Match object; span=(0, 5), match='Hello'>\n",
      "\n",
      "Using ^:\n",
      "<re.Match object; span=(0, 5), match='Hello'>\n"
     ]
    }
   ],
   "source": [
    "text0 = \"Hello\\nWorld\\n\"\n",
    "pattern_1 = r\"\\AHello\"\n",
    "pattern_2 = r\"^Hello\"\n",
    "\n",
    "# Using \\A\n",
    "match_1 = re.search(pattern_1, text0)\n",
    "print(\"Using \\\\A:\")\n",
    "print(match_1)  # Match object if found, None otherwise\n",
    "\n",
    "# Using ^\n",
    "match_2 = re.search(pattern_2, text0, re.MULTILINE)\n",
    "print(\"\\nUsing ^:\")\n",
    "print(match_2)  # Match object if found, None otherwise\n",
    "# Using ^\n",
    "match_2b = re.search(pattern_2, text0)\n",
    "print(\"\\nUsing ^:\")\n",
    "print(match_2b)  # Match object if found, None otherwise"
   ]
  },
  {
   "cell_type": "code",
   "execution_count": null,
   "id": "29703562",
   "metadata": {},
   "outputs": [],
   "source": []
  }
 ],
 "metadata": {
  "kernelspec": {
   "display_name": "Python 3 (ipykernel)",
   "language": "python",
   "name": "python3"
  },
  "language_info": {
   "codemirror_mode": {
    "name": "ipython",
    "version": 3
   },
   "file_extension": ".py",
   "mimetype": "text/x-python",
   "name": "python",
   "nbconvert_exporter": "python",
   "pygments_lexer": "ipython3",
   "version": "3.9.12"
  }
 },
 "nbformat": 4,
 "nbformat_minor": 5
}
