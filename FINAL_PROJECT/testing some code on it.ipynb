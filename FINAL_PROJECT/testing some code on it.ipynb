{
 "cells": [
  {
   "cell_type": "code",
   "execution_count": 6,
   "id": "1f5850a9",
   "metadata": {},
   "outputs": [
    {
     "data": {
      "text/plain": [
       "[('malaria', 'NNS')]"
      ]
     },
     "execution_count": 6,
     "metadata": {},
     "output_type": "execute_result"
    }
   ],
   "source": [
    "from textblob import TextBlob\n",
    "text=\"An infectious disease caused by protozoan parasites from the Plasmodium family that can be transmitt.\"\n",
    "mal=\"malaria\"\n",
    "x=TextBlob(mal)\n",
    "x.tags\n",
    "\n"
   ]
  },
  {
   "cell_type": "markdown",
   "id": "a47f1ce1",
   "metadata": {},
   "source": [
    "# We use another library - WORDNET\n",
    "## To deliver the definition"
   ]
  },
  {
   "cell_type": "code",
   "execution_count": 12,
   "id": "5f303f18",
   "metadata": {},
   "outputs": [
    {
     "name": "stdout",
     "output_type": "stream",
     "text": [
      "a substance that is used as a medicine or narcotic\n",
      "(chemistry) a process in which one or more substances are changed into others\n",
      "\n",
      "an infective disease caused by sporozoan parasites that are transmitted through the bite of an infected Anopheles mosquito; marked by paroxysms of chills and fever\n",
      "\n",
      "inflammation of the liver caused by a virus or a toxin\n",
      "a metric unit of length equal to one ten billionth of a meter (or 0.0001 micron); used to specify wavelengths of electromagnetic radiation\n",
      "\n"
     ]
    },
    {
     "ename": "IndexError",
     "evalue": "list index out of range",
     "output_type": "error",
     "traceback": [
      "\u001b[0;31m---------------------------------------------------------------------------\u001b[0m",
      "\u001b[0;31mIndexError\u001b[0m                                Traceback (most recent call last)",
      "Cell \u001b[0;32mIn[12], line 10\u001b[0m\n\u001b[1;32m      8\u001b[0m \u001b[38;5;28;01mfor\u001b[39;00m w \u001b[38;5;129;01min\u001b[39;00m words\u001b[38;5;241m.\u001b[39msplit():\n\u001b[1;32m      9\u001b[0m     syns \u001b[38;5;241m=\u001b[39m wordnet\u001b[38;5;241m.\u001b[39msynsets(w)\n\u001b[0;32m---> 10\u001b[0m     \u001b[38;5;28mprint\u001b[39m(\u001b[43msyns\u001b[49m\u001b[43m[\u001b[49m\u001b[38;5;241;43m0\u001b[39;49m\u001b[43m]\u001b[49m\u001b[38;5;241m.\u001b[39mdefinition())\n\u001b[1;32m     11\u001b[0m \u001b[38;5;28mprint\u001b[39m(\u001b[38;5;124m\"\u001b[39m\u001b[38;5;124m\"\u001b[39m)\n",
      "\u001b[0;31mIndexError\u001b[0m: list index out of range"
     ]
    }
   ],
   "source": [
    "from nltk.corpus import wordnet\n",
    "\n",
    "text=\"Drug Reaction\"\n",
    "diseases=[\"Drug Reaction\", \"Malaria\", \"Hepatitis A\",'Osteoarthristis','(vertigo) Paroymsal Positional Vertigo']\n",
    "\n",
    "\n",
    "for words in diseases:\n",
    "    for w in words.split():\n",
    "        syns = wordnet.synsets(w)\n",
    "        print(syns[0].definition())\n",
    "    print(\"\")"
   ]
  },
  {
   "cell_type": "code",
   "execution_count": null,
   "id": "ff78fb36",
   "metadata": {},
   "outputs": [],
   "source": []
  }
 ],
 "metadata": {
  "kernelspec": {
   "display_name": "Python 3 (ipykernel)",
   "language": "python",
   "name": "python3"
  },
  "language_info": {
   "codemirror_mode": {
    "name": "ipython",
    "version": 3
   },
   "file_extension": ".py",
   "mimetype": "text/x-python",
   "name": "python",
   "nbconvert_exporter": "python",
   "pygments_lexer": "ipython3",
   "version": "3.9.12"
  }
 },
 "nbformat": 4,
 "nbformat_minor": 5
}
