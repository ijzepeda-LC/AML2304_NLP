{
 "cells": [
  {
   "cell_type": "code",
   "execution_count": 1,
   "id": "eb68ab25",
   "metadata": {},
   "outputs": [],
   "source": [
    "import pandas as pd\n",
    "import numpy as np\n"
   ]
  },
  {
   "cell_type": "code",
   "execution_count": null,
   "id": "a89e002e",
   "metadata": {},
   "outputs": [],
   "source": []
  },
  {
   "cell_type": "code",
   "execution_count": 2,
   "id": "ae9f4579",
   "metadata": {},
   "outputs": [],
   "source": [
    "logo_path=\"/Users/ivan/_AI/_TERM2/CareNavi/resources/doctor_1.png\"\n",
    "logo2_path=\"/Users/ivan/_AI/_TERM2/CareNavi/resources/carenavi_logo.jpeg\"\n"
   ]
  },
  {
   "cell_type": "code",
   "execution_count": 4,
   "id": "540433fd",
   "metadata": {},
   "outputs": [],
   "source": [
    "datasets=['dataset.csv',\n",
    "'symptom_Description.csv',\n",
    "'symptom_precaution.csv',\n",
    "'Symptom-severity.csv']\n",
    "path='./dataset/'\n",
    "df_symptoms = pd.read_csv(path+datasets[0])\n",
    "df_diseases = pd.read_csv(path+datasets[1])\n",
    "df_precautions = pd.read_csv(path+datasets[2])\n",
    "df_symps_weights = pd.read_csv(path+datasets[3]) # Weights for symptoms, or labelEncoder, NOt that Relevant for NLP... so far\n",
    "\n"
   ]
  },
  {
   "cell_type": "code",
   "execution_count": 5,
   "id": "61adae6b",
   "metadata": {},
   "outputs": [
    {
     "data": {
      "text/html": [
       "<div>\n",
       "<style scoped>\n",
       "    .dataframe tbody tr th:only-of-type {\n",
       "        vertical-align: middle;\n",
       "    }\n",
       "\n",
       "    .dataframe tbody tr th {\n",
       "        vertical-align: top;\n",
       "    }\n",
       "\n",
       "    .dataframe thead th {\n",
       "        text-align: right;\n",
       "    }\n",
       "</style>\n",
       "<table border=\"1\" class=\"dataframe\">\n",
       "  <thead>\n",
       "    <tr style=\"text-align: right;\">\n",
       "      <th></th>\n",
       "      <th>Disease</th>\n",
       "      <th>Precaution_1</th>\n",
       "      <th>Precaution_2</th>\n",
       "      <th>Precaution_3</th>\n",
       "      <th>Precaution_4</th>\n",
       "    </tr>\n",
       "  </thead>\n",
       "  <tbody>\n",
       "    <tr>\n",
       "      <th>0</th>\n",
       "      <td>Drug Reaction</td>\n",
       "      <td>stop irritation</td>\n",
       "      <td>consult nearest hospital</td>\n",
       "      <td>stop taking drug</td>\n",
       "      <td>follow up</td>\n",
       "    </tr>\n",
       "    <tr>\n",
       "      <th>1</th>\n",
       "      <td>Malaria</td>\n",
       "      <td>Consult nearest hospital</td>\n",
       "      <td>avoid oily food</td>\n",
       "      <td>avoid non veg food</td>\n",
       "      <td>keep mosquitos out</td>\n",
       "    </tr>\n",
       "    <tr>\n",
       "      <th>2</th>\n",
       "      <td>Allergy</td>\n",
       "      <td>apply calamine</td>\n",
       "      <td>cover area with bandage</td>\n",
       "      <td></td>\n",
       "      <td>use ice to compress itching</td>\n",
       "    </tr>\n",
       "    <tr>\n",
       "      <th>3</th>\n",
       "      <td>Hypothyroidism</td>\n",
       "      <td>reduce stress</td>\n",
       "      <td>exercise</td>\n",
       "      <td>eat healthy</td>\n",
       "      <td>get proper sleep</td>\n",
       "    </tr>\n",
       "    <tr>\n",
       "      <th>4</th>\n",
       "      <td>Psoriasis</td>\n",
       "      <td>wash hands with warm soapy water</td>\n",
       "      <td>stop bleeding using pressure</td>\n",
       "      <td>consult doctor</td>\n",
       "      <td>salt baths</td>\n",
       "    </tr>\n",
       "  </tbody>\n",
       "</table>\n",
       "</div>"
      ],
      "text/plain": [
       "          Disease                      Precaution_1  \\\n",
       "0   Drug Reaction                   stop irritation   \n",
       "1         Malaria          Consult nearest hospital   \n",
       "2         Allergy                    apply calamine   \n",
       "3  Hypothyroidism                     reduce stress   \n",
       "4       Psoriasis  wash hands with warm soapy water   \n",
       "\n",
       "                   Precaution_2        Precaution_3  \\\n",
       "0      consult nearest hospital    stop taking drug   \n",
       "1               avoid oily food  avoid non veg food   \n",
       "2       cover area with bandage                       \n",
       "3                      exercise         eat healthy   \n",
       "4  stop bleeding using pressure      consult doctor   \n",
       "\n",
       "                  Precaution_4  \n",
       "0                    follow up  \n",
       "1           keep mosquitos out  \n",
       "2  use ice to compress itching  \n",
       "3             get proper sleep  \n",
       "4                   salt baths  "
      ]
     },
     "execution_count": 5,
     "metadata": {},
     "output_type": "execute_result"
    }
   ],
   "source": [
    "df_precautions=df_precautions.fillna(\"\")\n",
    "df_precautions.head(5)"
   ]
  },
  {
   "cell_type": "code",
   "execution_count": 6,
   "id": "ea5b3d03",
   "metadata": {},
   "outputs": [
    {
     "data": {
      "text/html": [
       "<div>\n",
       "<style scoped>\n",
       "    .dataframe tbody tr th:only-of-type {\n",
       "        vertical-align: middle;\n",
       "    }\n",
       "\n",
       "    .dataframe tbody tr th {\n",
       "        vertical-align: top;\n",
       "    }\n",
       "\n",
       "    .dataframe thead th {\n",
       "        text-align: right;\n",
       "    }\n",
       "</style>\n",
       "<table border=\"1\" class=\"dataframe\">\n",
       "  <thead>\n",
       "    <tr style=\"text-align: right;\">\n",
       "      <th></th>\n",
       "      <th>Disease</th>\n",
       "      <th>Description</th>\n",
       "    </tr>\n",
       "  </thead>\n",
       "  <tbody>\n",
       "    <tr>\n",
       "      <th>0</th>\n",
       "      <td>Drug Reaction</td>\n",
       "      <td>An adverse drug reaction (ADR) is an injury ca...</td>\n",
       "    </tr>\n",
       "  </tbody>\n",
       "</table>\n",
       "</div>"
      ],
      "text/plain": [
       "         Disease                                        Description\n",
       "0  Drug Reaction  An adverse drug reaction (ADR) is an injury ca..."
      ]
     },
     "execution_count": 6,
     "metadata": {},
     "output_type": "execute_result"
    }
   ],
   "source": [
    "df_diseases.head(1)"
   ]
  },
  {
   "cell_type": "code",
   "execution_count": 7,
   "id": "f62b181e",
   "metadata": {},
   "outputs": [
    {
     "data": {
      "text/html": [
       "<div>\n",
       "<style scoped>\n",
       "    .dataframe tbody tr th:only-of-type {\n",
       "        vertical-align: middle;\n",
       "    }\n",
       "\n",
       "    .dataframe tbody tr th {\n",
       "        vertical-align: top;\n",
       "    }\n",
       "\n",
       "    .dataframe thead th {\n",
       "        text-align: right;\n",
       "    }\n",
       "</style>\n",
       "<table border=\"1\" class=\"dataframe\">\n",
       "  <thead>\n",
       "    <tr style=\"text-align: right;\">\n",
       "      <th></th>\n",
       "      <th>Disease</th>\n",
       "      <th>Description</th>\n",
       "      <th>Precaution_1</th>\n",
       "      <th>Precaution_2</th>\n",
       "      <th>Precaution_3</th>\n",
       "      <th>Precaution_4</th>\n",
       "    </tr>\n",
       "  </thead>\n",
       "  <tbody>\n",
       "    <tr>\n",
       "      <th>0</th>\n",
       "      <td>Drug Reaction</td>\n",
       "      <td>An adverse drug reaction (ADR) is an injury ca...</td>\n",
       "      <td>stop irritation</td>\n",
       "      <td>consult nearest hospital</td>\n",
       "      <td>stop taking drug</td>\n",
       "      <td>follow up</td>\n",
       "    </tr>\n",
       "  </tbody>\n",
       "</table>\n",
       "</div>"
      ],
      "text/plain": [
       "         Disease                                        Description  \\\n",
       "0  Drug Reaction  An adverse drug reaction (ADR) is an injury ca...   \n",
       "\n",
       "      Precaution_1              Precaution_2      Precaution_3 Precaution_4  \n",
       "0  stop irritation  consult nearest hospital  stop taking drug    follow up  "
      ]
     },
     "execution_count": 7,
     "metadata": {},
     "output_type": "execute_result"
    }
   ],
   "source": [
    "merged_df= pd.merge(df_diseases,df_precautions, on = \"Disease\")\n",
    "merged_df.head(1)"
   ]
  },
  {
   "cell_type": "code",
   "execution_count": 8,
   "id": "906edd16",
   "metadata": {},
   "outputs": [
    {
     "name": "stdout",
     "output_type": "stream",
     "text": [
      "<class 'pandas.core.series.Series'>\n"
     ]
    },
    {
     "data": {
      "text/html": [
       "<div>\n",
       "<style scoped>\n",
       "    .dataframe tbody tr th:only-of-type {\n",
       "        vertical-align: middle;\n",
       "    }\n",
       "\n",
       "    .dataframe tbody tr th {\n",
       "        vertical-align: top;\n",
       "    }\n",
       "\n",
       "    .dataframe thead th {\n",
       "        text-align: right;\n",
       "    }\n",
       "</style>\n",
       "<table border=\"1\" class=\"dataframe\">\n",
       "  <thead>\n",
       "    <tr style=\"text-align: right;\">\n",
       "      <th></th>\n",
       "      <th>Disease</th>\n",
       "      <th>Description</th>\n",
       "      <th>Precaution_1</th>\n",
       "      <th>Precaution_2</th>\n",
       "      <th>Precaution_3</th>\n",
       "      <th>Precaution_4</th>\n",
       "    </tr>\n",
       "  </thead>\n",
       "  <tbody>\n",
       "    <tr>\n",
       "      <th>0</th>\n",
       "      <td>Drug Reaction</td>\n",
       "      <td>An adverse drug reaction (ADR) is an injury ca...</td>\n",
       "      <td>stop irritation</td>\n",
       "      <td>consult nearest hospital</td>\n",
       "      <td>stop taking drug</td>\n",
       "      <td>follow up</td>\n",
       "    </tr>\n",
       "  </tbody>\n",
       "</table>\n",
       "</div>"
      ],
      "text/plain": [
       "         Disease                                        Description  \\\n",
       "0  Drug Reaction  An adverse drug reaction (ADR) is an injury ca...   \n",
       "\n",
       "      Precaution_1              Precaution_2      Precaution_3 Precaution_4  \n",
       "0  stop irritation  consult nearest hospital  stop taking drug    follow up  "
      ]
     },
     "execution_count": 8,
     "metadata": {},
     "output_type": "execute_result"
    }
   ],
   "source": [
    "result= merged_df.iloc[0]\n",
    "print(type(result))\n",
    "result = result.to_frame().T\n",
    "result"
   ]
  },
  {
   "cell_type": "code",
   "execution_count": 10,
   "id": "9c551c20",
   "metadata": {},
   "outputs": [
    {
     "name": "stdout",
     "output_type": "stream",
     "text": [
      "PDF SAVED AT ./pdfs/Diagnostic-John-17-08-23_095811.pdf\n"
     ]
    },
    {
     "data": {
      "text/plain": [
       "''"
      ]
     },
     "execution_count": 10,
     "metadata": {},
     "output_type": "execute_result"
    }
   ],
   "source": [
    "from fpdf import FPDF\n",
    "import os\n",
    "import datetime\n",
    "\n",
    "\n",
    "t = datetime.datetime.today()\n",
    "D =  t.strftime('%B %d, %y')\n",
    "D_file =  t.strftime('%d-%m-%y_%H%M%S')\n",
    "pdf_folder=\"./pdfs\"\n",
    "\n",
    "def save_pdf(user): \n",
    "    pdf = FPDF() \n",
    "    pdf.add_page()\n",
    "    font=\"Arial\"\n",
    "    fontstyle=True\n",
    "    page_width = pdf.w\n",
    "    logo2_width = 25  \n",
    "    x_coordinate = page_width - logo2_width - 5  \n",
    "\n",
    "    \n",
    "    \n",
    "  \n",
    "    pdf.set_font(font,\"B\", size = 40)\n",
    "\n",
    "    pdf.cell(0, 10, txt=\"FakeDoctors & Co.\", ln=True, align='C')\n",
    "    pdf.set_font(font,\"B\", size = 10)\n",
    "    pdf.cell(0, 10, txt=\"by CareNavi\", ln=False, align='C')\n",
    "    pdf.image(logo_path, x = 5, y = 4, w = 25)\n",
    "    pdf.image(logo2_path, x=x_coordinate, y=4, w=25)\n",
    "    pdf.ln(25)\n",
    "\n",
    "    pdf.set_font(font, \"B\", size=20)\n",
    "    pdf.cell(0, 10, txt=f\"Diagnostic {user['name']}\", align='C')  # Title\n",
    "    pdf.ln()\n",
    "    pdf.cell(0, 10, txt=D, align='C')  # Date\n",
    "    pdf.ln()\n",
    "\n",
    "#     pdf.set_font(font,\"I\", size = 12)\n",
    "#     pdf.multi_cell(0, 10, txt = f\"Name: {user['name'].capitalize()} \\t\\tAge: {user['age']} \") #User details\n",
    "#     pdf.multi_cell(0, 10, txt = f\"Height: {user['height']} \\t\\tWeight: {user['weight']} \\t\\tBMI: {user['bmi']}\") #User details\n",
    "#     pdf.ln()\n",
    "    \n",
    "    # User details with underlines\n",
    "#     pdf.set_font(font, \"I\", size=12)\n",
    "    \n",
    "#     # Name \n",
    "#     pdf.cell(40, 10, txt=\"Name:\")\n",
    "#     pdf.set_font(font, \"IU\", size=12)\n",
    "#     pdf.cell(0, 10, txt=f\"{user['name'].capitalize()}\", ln=True, link='')\n",
    "    \n",
    "#     # Age \n",
    "#     pdf.set_font(font, \"I\", size=12)\n",
    "#     pdf.cell(40, 10, txt=\"Age:\")\n",
    "#     pdf.set_font(font, \"IU\", size=12)\n",
    "#     pdf.cell(0, 10, txt=f\"{user['age']} years\", ln=True)\n",
    "    \n",
    "#     # Height \n",
    "#     pdf.set_font(font, \"I\", size=12)\n",
    "#     pdf.cell(40, 10, txt=\"Height:\")\n",
    "#     pdf.set_font(font, \"IU\", size=12)\n",
    "#     pdf.cell(0, 10, txt=f\"{user['height']} cm\", ln=True)\n",
    "    \n",
    "#     # Weight \n",
    "#     pdf.set_font(font, \"I\", size=12)\n",
    "#     pdf.cell(40, 10, txt=\"Weight:\")\n",
    "#     pdf.set_font(font, \"IU\", size=12)\n",
    "#     pdf.cell(0, 10, txt=f\"{user['weight']} kg\", ln=True)\n",
    "    \n",
    "#     # BMI\n",
    "#     pdf.set_font(font, \"I\", size=12)\n",
    "#     pdf.cell(40, 10, txt=\"BMI:\")\n",
    "#     pdf.set_font(font, \"IU\", size=12)\n",
    "#     pdf.cell(0, 10, txt=f\"{user['bmi']}\", ln=True)\n",
    "\n",
    "    # Name\n",
    "    pdf.set_font(font, \"I\", size=12)\n",
    "    pdf.cell(20, 10, txt=\"Name:\", ln=False)\n",
    "    pdf.set_font(font, \"IU\", size=12)\n",
    "    pdf.cell(40, 10, txt=f\"{user['name'].capitalize()}\", ln=False)\n",
    "\n",
    "    # Age\n",
    "    pdf.set_font(font, \"I\", size=12)\n",
    "    pdf.cell(20, 10, txt=\"Age:\", ln=False)\n",
    "    pdf.set_font(font, \"IU\", size=12)\n",
    "    pdf.cell(20, 10, txt=f\"{user['age']} years\", ln=True)\n",
    "\n",
    "    # Weight\n",
    "    pdf.set_font(font, \"I\", size=12)\n",
    "    pdf.cell(20, 10, txt=\"Weight:\", ln=False)\n",
    "    pdf.set_font(font, \"IU\", size=12)\n",
    "    pdf.cell(20, 10, txt=f\"{user['weight']} kg\", ln=False)\n",
    "\n",
    "    # Height\n",
    "    pdf.set_font(font, \"I\", size=12)\n",
    "    pdf.cell(20, 10, txt=\"Height:\", ln=False)\n",
    "    pdf.set_font(font, \"IU\", size=12)\n",
    "    pdf.cell(20, 10, txt=f\"{user['height']} cm\", ln=False)\n",
    "\n",
    "    # BMI\n",
    "    pdf.set_font(font, \"I\", size=12)\n",
    "    pdf.cell(20, 10, txt=\"BMI:\", ln=False)\n",
    "    pdf.set_font(font, \"IU\", size=12)\n",
    "    pdf.cell(20, 10, txt=f\"{user['bmi']}\", ln=True)\n",
    "    \n",
    "    \n",
    "    \n",
    "    pdf.set_font(font,\"B\", size = 15)\n",
    "    pdf.multi_cell(0, 10, txt = \"Diagnostic:\\n\")\n",
    "    pdf.set_font(font, size=12)\n",
    "    pdf.multi_cell(0, 10, txt =user['disease'].capitalize())\n",
    "    pdf.ln()\n",
    "    \n",
    "    pdf.set_font(font,\"B\", size = 15)\n",
    "    pdf.multi_cell(0, 10, txt = \"Definition:\\n\")\n",
    "    pdf.set_font(font, size=12)\n",
    "    pdf.multi_cell(0, 10, txt =user['description'].capitalize())\n",
    "    pdf.ln()\n",
    "    \n",
    "    pdf.set_font(font,\"B\", size = 15)\n",
    "    pdf.multi_cell(0, 10, txt = \"Treatment:\\n\")\n",
    "    pdf.set_font(font, size=12)\n",
    "    pdf.multi_cell(0, 10, txt =user['treatment'].capitalize())\n",
    "    pdf.ln()\n",
    "    pdf.set_font(font,\"B\", size = 15)\n",
    "    pdf.multi_cell(0, 10, txt = \"Treatment (Secondary):\\n\")\n",
    "    pdf.set_font(font, size=12)\n",
    "    pdf.multi_cell(0, 10, txt =user['treatments'].capitalize())\n",
    "    pdf.ln()\n",
    "    pdf.ln()\n",
    "    # if path doesn't exists create it\n",
    "    if not os.path.exists(pdf_folder):\n",
    "        os.makedirs(pdf_folder)\n",
    "    pdf_path=os.path.join(pdf_folder,f\"Diagnostic-{user['name']}-{D_file}.pdf\")\n",
    "    pdf.output(pdf_path,'F')#.encode('latin-1','ignore') \n",
    "    print(\"PDF SAVED AT\", pdf_path)\n",
    "    return \"\"\n",
    " \n",
    "\n",
    "precautions=['Precaution_2','Precaution_3','Precaution_4']\n",
    "user={\n",
    "    \"name\":\"John\",\n",
    "    \"age\":\"15\",\n",
    "    \"height\":\"1.50\",\n",
    "    \"weight\":\"50\",\n",
    "    \"bmi\":\"21.00\",\n",
    "    \"disease\":result['Disease'].iloc[0],\n",
    "    \"description\":result['Description'].iloc[0],\n",
    "    \"treatment\":result['Precaution_1'].iloc[0],\n",
    "    \"treatments\":\". \".join([result[pre].iloc[0].capitalize() for pre in precautions]),\n",
    "}\n",
    "user\n",
    "save_pdf(user)"
   ]
  },
  {
   "cell_type": "code",
   "execution_count": 24,
   "id": "3e59ae3d",
   "metadata": {},
   "outputs": [
    {
     "data": {
      "text/plain": [
       "'consult nearest hospital. stop taking drug. follow up'"
      ]
     },
     "execution_count": 24,
     "metadata": {},
     "output_type": "execute_result"
    }
   ],
   "source": [
    "\". \".join([result[pre].iloc[0] for pre in precautions])"
   ]
  },
  {
   "cell_type": "code",
   "execution_count": 78,
   "id": "f171f311",
   "metadata": {},
   "outputs": [
    {
     "data": {
      "text/plain": [
       "{'name': 'John',\n",
       " 'age': '15',\n",
       " 'height': '1.50',\n",
       " 'weight': '50',\n",
       " 'bmi': '21.00',\n",
       " 'disease': 'Drug Reaction',\n",
       " 'description': 'An adverse drug reaction (ADR) is an injury caused by taking medication. ADRs may occur following a single dose or prolonged administration of a drug or result from the combination of two or more drugs.',\n",
       " 'treatment': 'stop irritation',\n",
       " 'treatments': 'consult nearest hospital. stop taking drug. follow up'}"
      ]
     },
     "execution_count": 78,
     "metadata": {},
     "output_type": "execute_result"
    }
   ],
   "source": [
    "user"
   ]
  },
  {
   "cell_type": "code",
   "execution_count": null,
   "id": "71d1f122",
   "metadata": {},
   "outputs": [],
   "source": []
  }
 ],
 "metadata": {
  "kernelspec": {
   "display_name": "Python 3 (ipykernel)",
   "language": "python",
   "name": "python3"
  },
  "language_info": {
   "codemirror_mode": {
    "name": "ipython",
    "version": 3
   },
   "file_extension": ".py",
   "mimetype": "text/x-python",
   "name": "python",
   "nbconvert_exporter": "python",
   "pygments_lexer": "ipython3",
   "version": "3.9.12"
  }
 },
 "nbformat": 4,
 "nbformat_minor": 5
}
