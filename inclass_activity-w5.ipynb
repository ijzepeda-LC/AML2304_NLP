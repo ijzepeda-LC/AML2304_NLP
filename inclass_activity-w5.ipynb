{
 "cells": [
  {
   "cell_type": "markdown",
   "id": "1b6afc6e",
   "metadata": {},
   "source": [
    "# Inclass activity week5\n",
    "## Ivan Zepeda\n",
    "c0883949"
   ]
  },
  {
   "cell_type": "markdown",
   "id": "92f7d82c",
   "metadata": {},
   "source": [
    "## Module 3"
   ]
  },
  {
   "cell_type": "code",
   "execution_count": 11,
   "id": "8e201bd4",
   "metadata": {},
   "outputs": [],
   "source": [
    "import numpy as np\n",
    "from sklearn.feature_extraction.text import TfidfVectorizer"
   ]
  },
  {
   "cell_type": "code",
   "execution_count": 12,
   "id": "7220abbe",
   "metadata": {},
   "outputs": [],
   "source": [
    "text_data = np.array(['I love Brazil. Brazil!!',\n",
    "                     'Sweden is best',\n",
    "                     'Germany beats both'])"
   ]
  },
  {
   "cell_type": "code",
   "execution_count": 13,
   "id": "1c6a4ecf",
   "metadata": {},
   "outputs": [],
   "source": [
    "tfidf = TfidfVectorizer()\n",
    "feature_matrix = tfidf.fit_transform(text_data)"
   ]
  },
  {
   "cell_type": "code",
   "execution_count": 14,
   "id": "fe919acf",
   "metadata": {},
   "outputs": [
    {
     "data": {
      "text/plain": [
       "array([[0.        , 0.        , 0.        , 0.89442719, 0.        ,\n",
       "        0.        , 0.4472136 , 0.        ],\n",
       "       [0.        , 0.57735027, 0.        , 0.        , 0.        ,\n",
       "        0.57735027, 0.        , 0.57735027],\n",
       "       [0.57735027, 0.        , 0.57735027, 0.        , 0.57735027,\n",
       "        0.        , 0.        , 0.        ]])"
      ]
     },
     "execution_count": 14,
     "metadata": {},
     "output_type": "execute_result"
    }
   ],
   "source": [
    "feature_matrix.toarray()"
   ]
  },
  {
   "cell_type": "code",
   "execution_count": 15,
   "id": "7b3948eb",
   "metadata": {},
   "outputs": [
    {
     "data": {
      "text/plain": [
       "{'love': 6,\n",
       " 'brazil': 3,\n",
       " 'sweden': 7,\n",
       " 'is': 5,\n",
       " 'best': 1,\n",
       " 'germany': 4,\n",
       " 'beats': 0,\n",
       " 'both': 2}"
      ]
     },
     "execution_count": 15,
     "metadata": {},
     "output_type": "execute_result"
    }
   ],
   "source": [
    "tfidf.vocabulary_"
   ]
  },
  {
   "cell_type": "code",
   "execution_count": null,
   "id": "bedd6843",
   "metadata": {},
   "outputs": [],
   "source": []
  },
  {
   "cell_type": "markdown",
   "id": "af4a8cdb",
   "metadata": {},
   "source": [
    "# MOdule 4"
   ]
  },
  {
   "cell_type": "code",
   "execution_count": 21,
   "id": "abd685f3",
   "metadata": {},
   "outputs": [],
   "source": [
    "from nltk import word_tokenize"
   ]
  },
  {
   "cell_type": "code",
   "execution_count": 16,
   "id": "47679e78",
   "metadata": {},
   "outputs": [],
   "source": [
    "mystring=\"The 5 countries include China, United States, Indonesia, India, and Brazil.\""
   ]
  },
  {
   "cell_type": "code",
   "execution_count": 17,
   "id": "95c8f8af",
   "metadata": {},
   "outputs": [
    {
     "name": "stdout",
     "output_type": "stream",
     "text": [
      "jack nelson worked for microsoft and attended a conderence in italy . i study at lambton college in toronto\n"
     ]
    }
   ],
   "source": [
    "string = myString.lower()\n",
    "print(string)"
   ]
  },
  {
   "cell_type": "code",
   "execution_count": 24,
   "id": "451474fb",
   "metadata": {},
   "outputs": [
    {
     "name": "stdout",
     "output_type": "stream",
     "text": [
      "JACK Jack\n",
      "NELSON Nelson\n",
      "WORKED Worked\n",
      "FOR For\n",
      "MICROSOFT Microsoft\n",
      "AND And\n",
      "ATTENDED Attended\n",
      "A A\n",
      "CONDERENCE Conderence\n",
      "IN In\n",
      "ITALY Italy\n",
      ". .\n",
      "I I\n",
      "STUDY Study\n",
      "AT At\n",
      "LAMBTON Lambton\n",
      "COLLEGE College\n",
      "IN In\n",
      "TORONTO Toronto\n"
     ]
    }
   ],
   "source": [
    "#write a function that takes everything, tokenize it\n",
    "def upper_token(string):\n",
    "    tokens = word_tokenize(string)\n",
    "    for word in tokens:\n",
    "        print(word.upper(), word.capitalize())\n",
    "    \n",
    "upper_token(string)"
   ]
  },
  {
   "cell_type": "code",
   "execution_count": null,
   "id": "bf7ec4d8",
   "metadata": {},
   "outputs": [],
   "source": [
    "import re\n"
   ]
  },
  {
   "cell_type": "code",
   "execution_count": 25,
   "id": "3e68308e",
   "metadata": {},
   "outputs": [],
   "source": [
    "my_string=\"Box A has 4 red and 6 white balls, while Box B has 3 red and 5 blue balls.\""
   ]
  },
  {
   "cell_type": "code",
   "execution_count": 29,
   "id": "e9079a2a",
   "metadata": {},
   "outputs": [
    {
     "name": "stdout",
     "output_type": "stream",
     "text": [
      "Box A has  red and  white balls, while Box B has  red and  blue balls.\n"
     ]
    }
   ],
   "source": [
    "def replace_re(reg,replace='',string=my_string):\n",
    "    output = re.sub(reg,replace,string)\n",
    "    print(output)\n",
    "\n",
    "replace_re('\\d+')"
   ]
  },
  {
   "cell_type": "markdown",
   "id": "543e6d01",
   "metadata": {},
   "source": [
    "**Remove Punctuation**"
   ]
  },
  {
   "cell_type": "code",
   "execution_count": 34,
   "id": "df672bb7",
   "metadata": {},
   "outputs": [
    {
     "name": "stdout",
     "output_type": "stream",
     "text": [
      "You  are amazing studentsat at Lambton Coll3ege \n"
     ]
    }
   ],
   "source": [
    "import string\n",
    "my_string = \"You, {}!#@#{}$ are amazi^%ng students:!@$at$#@$ at @Lambton Coll3ege! ;\"\n",
    "\n",
    "def remove_punct(my_string=my_string):\n",
    "    test_str = my_string.translate(str.maketrans('','', string.punctuation))\n",
    "    print(test_str)\n",
    "remove_punct(my_string)"
   ]
  },
  {
   "cell_type": "code",
   "execution_count": 47,
   "id": "dd261d84",
   "metadata": {},
   "outputs": [
    {
     "name": "stdout",
     "output_type": "stream",
     "text": [
      "You  are amazing studentsat at Lambton College \n"
     ]
    }
   ],
   "source": [
    "# regex has a punctuation wildcard\n",
    "pattern='[^a-zA-Z ]'\n",
    "\n",
    "replace_re(pattern,string=my_string)"
   ]
  },
  {
   "cell_type": "markdown",
   "id": "dfc2b482",
   "metadata": {},
   "source": [
    "**White space removal**\n"
   ]
  },
  {
   "cell_type": "code",
   "execution_count": 48,
   "id": "a0e30beb",
   "metadata": {},
   "outputs": [
    {
     "name": "stdout",
     "output_type": "stream",
     "text": [
      "\t a sample string\n",
      "  a sample string  \n",
      "a sample string\n",
      "a sample string\n"
     ]
    }
   ],
   "source": [
    "mystring=\"\\t a sample string\"\n",
    "mystring2=\"  a sample string  \"\n",
    "print(mystring)\n",
    "print(mystring2)\n",
    "print(mystring.strip())\n",
    "print(mystring2.strip())\n",
    "\n",
    "\n"
   ]
  },
  {
   "cell_type": "code",
   "execution_count": null,
   "id": "685d92c5",
   "metadata": {},
   "outputs": [],
   "source": []
  },
  {
   "cell_type": "markdown",
   "id": "c7dd630a",
   "metadata": {},
   "source": [
    "## \n",
    "# POS \n",
    "## Part of Speech"
   ]
  },
  {
   "cell_type": "code",
   "execution_count": 50,
   "id": "2513faed",
   "metadata": {},
   "outputs": [
    {
     "name": "stdout",
     "output_type": "stream",
     "text": [
      "[('Codespeedy', 'NNP'), ('is', 'VBZ'), ('a', 'DT'), ('programing', 'VBG'), ('blog', 'NN'), ('Blog', 'NNP'), ('posts', 'VBZ'), ('contains', 'NNS'), ('articles', 'NNS'), ('and', 'CC'), ('tutorials', 'NNS'), ('on', 'IN'), ('Python', 'NNP'), ('CSS', 'NNP'), ('and', 'CC'), ('even', 'RB'), ('much', 'RB'), ('more', 'JJR')]\n"
     ]
    },
    {
     "name": "stderr",
     "output_type": "stream",
     "text": [
      "[nltk_data] Downloading package tagsets to /Users/ivan/nltk_data...\n",
      "[nltk_data]   Package tagsets is already up-to-date!\n",
      "[nltk_data] Downloading package averaged_perceptron_tagger to\n",
      "[nltk_data]     /Users/ivan/nltk_data...\n",
      "[nltk_data]   Package averaged_perceptron_tagger is already up-to-\n",
      "[nltk_data]       date!\n"
     ]
    }
   ],
   "source": [
    "# !pip install textblob\n",
    "from textblob import TextBlob\n",
    "import nltk\n",
    "nltk.download('tagsets')\n",
    "nltk.download('averaged_perceptron_tagger')\n",
    "text = (\"Codespeedy is a programing blog. \" \"Blog posts contains articles and tutorials on Python, CSS and even much more\")\n",
    "tb = TextBlob(text)\n",
    "print(tb.tags)"
   ]
  },
  {
   "cell_type": "code",
   "execution_count": 55,
   "id": "8faa97e7",
   "metadata": {},
   "outputs": [
    {
     "name": "stdout",
     "output_type": "stream",
     "text": [
      "[('Codespeedy', 'NNP'), ('is', 'VBZ'), ('a', 'DT'), ('programing', 'VBG'), ('blog', 'NN'), ('.', '.'), ('Blog', 'NNP'), ('posts', 'VBZ'), ('contains', 'NNS'), ('articles', 'NNS'), ('and', 'CC'), ('tutorials', 'NNS'), ('on', 'IN'), ('Python', 'NNP'), (',', ','), ('CSS', 'NNP'), ('and', 'CC'), ('even', 'RB'), ('much', 'RB'), ('more', 'JJR')]\n"
     ]
    }
   ],
   "source": [
    "# Approach 2, pos_Tag, is required to tokenize the string\n",
    "tokens = nltk.word_tokenize(text)\n",
    "\n",
    "print(nltk.pos_tag(tokens))\n"
   ]
  },
  {
   "cell_type": "code",
   "execution_count": 56,
   "id": "d0ed667c",
   "metadata": {},
   "outputs": [
    {
     "name": "stdout",
     "output_type": "stream",
     "text": [
      "$: dollar\n",
      "    $ -$ --$ A$ C$ HK$ M$ NZ$ S$ U.S.$ US$\n",
      "'': closing quotation mark\n",
      "    ' ''\n",
      "(: opening parenthesis\n",
      "    ( [ {\n",
      "): closing parenthesis\n",
      "    ) ] }\n",
      ",: comma\n",
      "    ,\n",
      "--: dash\n",
      "    --\n",
      ".: sentence terminator\n",
      "    . ! ?\n",
      ":: colon or ellipsis\n",
      "    : ; ...\n",
      "CC: conjunction, coordinating\n",
      "    & 'n and both but either et for less minus neither nor or plus so\n",
      "    therefore times v. versus vs. whether yet\n",
      "CD: numeral, cardinal\n",
      "    mid-1890 nine-thirty forty-two one-tenth ten million 0.5 one forty-\n",
      "    seven 1987 twenty '79 zero two 78-degrees eighty-four IX '60s .025\n",
      "    fifteen 271,124 dozen quintillion DM2,000 ...\n",
      "DT: determiner\n",
      "    all an another any both del each either every half la many much nary\n",
      "    neither no some such that the them these this those\n",
      "EX: existential there\n",
      "    there\n",
      "FW: foreign word\n",
      "    gemeinschaft hund ich jeux habeas Haementeria Herr K'ang-si vous\n",
      "    lutihaw alai je jour objets salutaris fille quibusdam pas trop Monte\n",
      "    terram fiche oui corporis ...\n",
      "IN: preposition or conjunction, subordinating\n",
      "    astride among uppon whether out inside pro despite on by throughout\n",
      "    below within for towards near behind atop around if like until below\n",
      "    next into if beside ...\n",
      "JJ: adjective or numeral, ordinal\n",
      "    third ill-mannered pre-war regrettable oiled calamitous first separable\n",
      "    ectoplasmic battery-powered participatory fourth still-to-be-named\n",
      "    multilingual multi-disciplinary ...\n",
      "JJR: adjective, comparative\n",
      "    bleaker braver breezier briefer brighter brisker broader bumper busier\n",
      "    calmer cheaper choosier cleaner clearer closer colder commoner costlier\n",
      "    cozier creamier crunchier cuter ...\n",
      "JJS: adjective, superlative\n",
      "    calmest cheapest choicest classiest cleanest clearest closest commonest\n",
      "    corniest costliest crassest creepiest crudest cutest darkest deadliest\n",
      "    dearest deepest densest dinkiest ...\n",
      "LS: list item marker\n",
      "    A A. B B. C C. D E F First G H I J K One SP-44001 SP-44002 SP-44005\n",
      "    SP-44007 Second Third Three Two * a b c d first five four one six three\n",
      "    two\n",
      "MD: modal auxiliary\n",
      "    can cannot could couldn't dare may might must need ought shall should\n",
      "    shouldn't will would\n",
      "NN: noun, common, singular or mass\n",
      "    common-carrier cabbage knuckle-duster Casino afghan shed thermostat\n",
      "    investment slide humour falloff slick wind hyena override subhumanity\n",
      "    machinist ...\n",
      "NNP: noun, proper, singular\n",
      "    Motown Venneboerger Czestochwa Ranzer Conchita Trumplane Christos\n",
      "    Oceanside Escobar Kreisler Sawyer Cougar Yvette Ervin ODI Darryl CTCA\n",
      "    Shannon A.K.C. Meltex Liverpool ...\n",
      "NNPS: noun, proper, plural\n",
      "    Americans Americas Amharas Amityvilles Amusements Anarcho-Syndicalists\n",
      "    Andalusians Andes Andruses Angels Animals Anthony Antilles Antiques\n",
      "    Apache Apaches Apocrypha ...\n",
      "NNS: noun, common, plural\n",
      "    undergraduates scotches bric-a-brac products bodyguards facets coasts\n",
      "    divestitures storehouses designs clubs fragrances averages\n",
      "    subjectivists apprehensions muses factory-jobs ...\n",
      "PDT: pre-determiner\n",
      "    all both half many quite such sure this\n",
      "POS: genitive marker\n",
      "    ' 's\n",
      "PRP: pronoun, personal\n",
      "    hers herself him himself hisself it itself me myself one oneself ours\n",
      "    ourselves ownself self she thee theirs them themselves they thou thy us\n",
      "PRP$: pronoun, possessive\n",
      "    her his mine my our ours their thy your\n",
      "RB: adverb\n",
      "    occasionally unabatingly maddeningly adventurously professedly\n",
      "    stirringly prominently technologically magisterially predominately\n",
      "    swiftly fiscally pitilessly ...\n",
      "RBR: adverb, comparative\n",
      "    further gloomier grander graver greater grimmer harder harsher\n",
      "    healthier heavier higher however larger later leaner lengthier less-\n",
      "    perfectly lesser lonelier longer louder lower more ...\n",
      "RBS: adverb, superlative\n",
      "    best biggest bluntest earliest farthest first furthest hardest\n",
      "    heartiest highest largest least less most nearest second tightest worst\n",
      "RP: particle\n",
      "    aboard about across along apart around aside at away back before behind\n",
      "    by crop down ever fast for forth from go high i.e. in into just later\n",
      "    low more off on open out over per pie raising start teeth that through\n",
      "    under unto up up-pp upon whole with you\n",
      "SYM: symbol\n",
      "    % & ' '' ''. ) ). * + ,. < = > @ A[fj] U.S U.S.S.R * ** ***\n",
      "TO: \"to\" as preposition or infinitive marker\n",
      "    to\n",
      "UH: interjection\n",
      "    Goodbye Goody Gosh Wow Jeepers Jee-sus Hubba Hey Kee-reist Oops amen\n",
      "    huh howdy uh dammit whammo shucks heck anyways whodunnit honey golly\n",
      "    man baby diddle hush sonuvabitch ...\n",
      "VB: verb, base form\n",
      "    ask assemble assess assign assume atone attention avoid bake balkanize\n",
      "    bank begin behold believe bend benefit bevel beware bless boil bomb\n",
      "    boost brace break bring broil brush build ...\n",
      "VBD: verb, past tense\n",
      "    dipped pleaded swiped regummed soaked tidied convened halted registered\n",
      "    cushioned exacted snubbed strode aimed adopted belied figgered\n",
      "    speculated wore appreciated contemplated ...\n",
      "VBG: verb, present participle or gerund\n",
      "    telegraphing stirring focusing angering judging stalling lactating\n",
      "    hankerin' alleging veering capping approaching traveling besieging\n",
      "    encrypting interrupting erasing wincing ...\n",
      "VBN: verb, past participle\n",
      "    multihulled dilapidated aerosolized chaired languished panelized used\n",
      "    experimented flourished imitated reunifed factored condensed sheared\n",
      "    unsettled primed dubbed desired ...\n",
      "VBP: verb, present tense, not 3rd person singular\n",
      "    predominate wrap resort sue twist spill cure lengthen brush terminate\n",
      "    appear tend stray glisten obtain comprise detest tease attract\n",
      "    emphasize mold postpone sever return wag ...\n",
      "VBZ: verb, present tense, 3rd person singular\n",
      "    bases reconstructs marks mixes displeases seals carps weaves snatches\n",
      "    slumps stretches authorizes smolders pictures emerges stockpiles\n",
      "    seduces fizzes uses bolsters slaps speaks pleads ...\n",
      "WDT: WH-determiner\n",
      "    that what whatever which whichever\n",
      "WP: WH-pronoun\n",
      "    that what whatever whatsoever which who whom whosoever\n",
      "WP$: WH-pronoun, possessive\n",
      "    whose\n",
      "WRB: Wh-adverb\n",
      "    how however whence whenever where whereby whereever wherein whereof why\n",
      "``: opening quotation mark\n",
      "    ` ``\n"
     ]
    }
   ],
   "source": [
    "# To display all the tags!\n",
    "nltk.help.upenn_tagset()"
   ]
  },
  {
   "cell_type": "code",
   "execution_count": null,
   "id": "be3ea374",
   "metadata": {},
   "outputs": [],
   "source": []
  },
  {
   "cell_type": "markdown",
   "id": "ecc1ca8e",
   "metadata": {},
   "source": [
    "## \n",
    "# Named Entity Recognition (NER)\n",
    "## "
   ]
  },
  {
   "cell_type": "code",
   "execution_count": 60,
   "id": "3f84d09e",
   "metadata": {},
   "outputs": [
    {
     "name": "stderr",
     "output_type": "stream",
     "text": [
      "[nltk_data] Downloading package maxent_ne_chunker to\n",
      "[nltk_data]     /Users/ivan/nltk_data...\n",
      "[nltk_data]   Package maxent_ne_chunker is already up-to-date!\n",
      "[nltk_data] Downloading package words to /Users/ivan/nltk_data...\n",
      "[nltk_data]   Package words is already up-to-date!\n"
     ]
    },
    {
     "data": {
      "text/plain": [
       "True"
      ]
     },
     "execution_count": 60,
     "metadata": {},
     "output_type": "execute_result"
    }
   ],
   "source": [
    "nltk.download('maxent_ne_chunker')\n",
    "nltk.download('words')"
   ]
  },
  {
   "cell_type": "code",
   "execution_count": 58,
   "id": "a745cabf",
   "metadata": {},
   "outputs": [],
   "source": [
    "string = \"Jack Nelson worked for Microsoft and attended a conference in Italy .  I study at Lambton College in Toronto\""
   ]
  },
  {
   "cell_type": "code",
   "execution_count": 95,
   "id": "b3ab7f33",
   "metadata": {},
   "outputs": [
    {
     "name": "stdout",
     "output_type": "stream",
     "text": [
      "(NE Jack/NNP Nelson/NNP)\n",
      "<NER> (NE Jack/NNP Nelson/NNP)\n",
      "LABEL: NE\n",
      "('worked', 'VBD')\n",
      "('for', 'IN')\n",
      "(NE Microsoft/NNP)\n",
      "<NER> (NE Microsoft/NNP)\n",
      "LABEL: NE\n",
      "('and', 'CC')\n",
      "('attended', 'VBD')\n",
      "('a', 'DT')\n",
      "('conderence', 'NN')\n",
      "('in', 'IN')\n",
      "(NE Italy/NNP)\n",
      "<NER> (NE Italy/NNP)\n",
      "LABEL: NE\n",
      "('.', '.')\n",
      "('I', 'PRP')\n",
      "('study', 'VBP')\n",
      "('at', 'IN')\n",
      "(NE Lambton/NNP)\n",
      "<NER> (NE Lambton/NNP)\n",
      "LABEL: NE\n",
      "('college', 'NN')\n",
      "('in', 'IN')\n",
      "('toronto', 'NN')\n"
     ]
    }
   ],
   "source": [
    "from nltk.tokenize import sent_tokenize, word_tokenize\n",
    "\n",
    "\n",
    "#tokenize article\n",
    "sentences = sent_tokenize(myString)\n",
    "\n",
    "token_sentences = [word_tokenize(sent) for sent in sentences]\n",
    "\n",
    "#tag each tokenized sentnce intoparts of speech: POS\n",
    "pos_sentences = [nltk.pos_tag(sent) for sent in token_sentences]\n",
    "\n",
    "# Create the named entity chunks. chunked_snetendc\n",
    "chunked_sentences = nltk.ne_chunk_sents(pos_sentences, binary=True)\n",
    "\n",
    "for sent in chunked_sentences:\n",
    "    for chunk in sent:\n",
    "        print(chunk)\n",
    "        if( 'NNP' in str(chunk)):\n",
    "            print(\"<NER>\",chunk)\n",
    "        if (hasattr(chunk, 'label')):\n",
    "            print(\"LABEL:\",chunk.label())\n",
    "            "
   ]
  },
  {
   "cell_type": "code",
   "execution_count": 93,
   "id": "010cc28a",
   "metadata": {},
   "outputs": [],
   "source": [
    "for sent in chunked_sentences:\n",
    "    for chunk in sent:\n",
    "#         if (hasattr(chunk, 'label') and chunk.label() == 'NNP'):\n",
    "        if (hasattr(chunk, 'label')):\n",
    "            print(chunk)\n",
    "            "
   ]
  },
  {
   "cell_type": "code",
   "execution_count": null,
   "id": "66144c63",
   "metadata": {},
   "outputs": [],
   "source": []
  },
  {
   "cell_type": "code",
   "execution_count": 96,
   "id": "8f704a53",
   "metadata": {},
   "outputs": [
    {
     "name": "stderr",
     "output_type": "stream",
     "text": [
      "[nltk_data] Downloading package webtext to /Users/ivan/nltk_data...\n",
      "[nltk_data]   Unzipping corpora/webtext.zip.\n"
     ]
    }
   ],
   "source": [
    "import nltk\n",
    "nltk.download('webtext')\n",
    "from nltk.corpus import webtext\n"
   ]
  },
  {
   "cell_type": "code",
   "execution_count": 101,
   "id": "c0649ab5",
   "metadata": {
    "scrolled": false
   },
   "outputs": [
    {
     "name": "stdout",
     "output_type": "stream",
     "text": [
      "69827\n"
     ]
    }
   ],
   "source": [
    "# webtext has Monty Python Holy Grail\n",
    "words = [w.lower() for w in webtext.words('grail.txt')]\n",
    "output = ' '.join(words)\n",
    "print(len(output))"
   ]
  },
  {
   "cell_type": "code",
   "execution_count": 103,
   "id": "db64d3d1",
   "metadata": {},
   "outputs": [],
   "source": [
    "from nltk.corpus import stopwords\n",
    "stopword = stopwords.words('english')\n",
    "\n",
    "\n",
    "just_words=[]\n",
    "punctuations=[]\n",
    "mp_stopwords=[]\n",
    "for word in words:\n",
    "    if word.isalnum() and word.lower() not in stopword:\n",
    "        just_words.append(word)\n",
    "    elif word.lower() in stopword:\n",
    "        mp_stopwords.append(word)\n",
    "    else:\n",
    "        punctuations.append(word)\n",
    "        \n",
    "print('just_words',len(just_words))\n",
    "print('mp_stopwords',len(mp_stopwords))\n",
    "print('punctuations',len(punctuations))\n"
   ]
  },
  {
   "cell_type": "code",
   "execution_count": null,
   "id": "2d8683e8",
   "metadata": {},
   "outputs": [],
   "source": [
    "# Gensim"
   ]
  },
  {
   "cell_type": "code",
   "execution_count": null,
   "id": "320ad7e5",
   "metadata": {},
   "outputs": [],
   "source": [
    "# NLTK"
   ]
  }
 ],
 "metadata": {
  "kernelspec": {
   "display_name": "Python 3 (ipykernel)",
   "language": "python",
   "name": "python3"
  },
  "language_info": {
   "codemirror_mode": {
    "name": "ipython",
    "version": 3
   },
   "file_extension": ".py",
   "mimetype": "text/x-python",
   "name": "python",
   "nbconvert_exporter": "python",
   "pygments_lexer": "ipython3",
   "version": "3.9.12"
  }
 },
 "nbformat": 4,
 "nbformat_minor": 5
}
