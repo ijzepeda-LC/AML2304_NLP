{
 "cells": [
  {
   "attachments": {},
   "cell_type": "markdown",
   "id": "1a274122",
   "metadata": {},
   "source": [
    "# Ivan Zepeda\n",
    "C0883949\n",
    "\n",
    "Word normalization => convert word to root form"
   ]
  },
  {
   "attachments": {},
   "cell_type": "markdown",
   "id": "65688190",
   "metadata": {},
   "source": [
    "import nltk\n",
    "from nltk.corpus import wordnet\n",
    "\n",
    "w1 = wordnet.synset('ship.n.01')\n",
    "w1 = wordnet.synset('ship.n.01')\n"
   ]
  },
  {
   "attachments": {},
   "cell_type": "markdown",
   "id": "9ff73836",
   "metadata": {},
   "source": [
    "### Word Lengthening:\n",
    "a word might onoly have same letter repeated twice: book, cool, collapse"
   ]
  },
  {
   "cell_type": "code",
   "execution_count": 2,
   "id": "ee17c6ab",
   "metadata": {},
   "outputs": [
    {
     "name": "stdout",
     "output_type": "stream",
     "text": [
      "book\n",
      "bookk\n",
      "bookk\n",
      "bookkokookk\n"
     ]
    }
   ],
   "source": [
    "import re\n",
    "def remove_lenghtening(text):\n",
    "    pat= re.compile(r'(.)\\1{2,}')\n",
    "    return pat.sub(r'\\1\\1', text)\n",
    "print(remove_lenghtening(\"booook\"))\n",
    "print(remove_lenghtening(\"booookk\"))\n",
    "print(remove_lenghtening(\"booookkkk\"))\n",
    "print(remove_lenghtening(\"booookkokookkk\"))\n",
    "\n",
    "\n"
   ]
  },
  {
   "attachments": {},
   "cell_type": "markdown",
   "id": "88aa4284",
   "metadata": {},
   "source": [
    "# Spell Correction"
   ]
  },
  {
   "attachments": {},
   "cell_type": "markdown",
   "id": "b8727780",
   "metadata": {},
   "source": [
    "NLTK Does not have a solution"
   ]
  },
  {
   "cell_type": "code",
   "execution_count": 3,
   "id": "3d694351",
   "metadata": {},
   "outputs": [
    {
     "name": "stdout",
     "output_type": "stream",
     "text": [
      "message\n",
      "service\n",
      "the\n",
      "car\n",
      "saw\n",
      "was\n",
      "loose\n",
      "car\n",
      "car\n",
      "aaaaaa\n",
      "aaaaaa\n"
     ]
    }
   ],
   "source": [
    "# pip install autocorrect\n",
    "from autocorrect import Speller\n",
    "spell = Speller(lang='en')\n",
    "print(spell('mussage'))\n",
    "print(spell('survice'))\n",
    "print(spell('hte'))\n",
    "print(spell('caar'))\n",
    "print(spell('saaw'))\n",
    "print(spell('wsa'))\n",
    "print(spell('looosee'))\n",
    "print(spell('caar'))\n",
    "print(spell('caaar'))\n",
    "print(spell('caaaar'))\n",
    "print(spell('caaaaar'))\n",
    "\n",
    "\n",
    "# the model, doesnt work well with lenghtening\n",
    "# it can also work with suggestions"
   ]
  },
  {
   "attachments": {},
   "cell_type": "markdown",
   "id": "f68de446",
   "metadata": {},
   "source": [
    "## MEthod 2\n",
    "### PAttern"
   ]
  },
  {
   "cell_type": "code",
   "execution_count": 4,
   "id": "757b0de9",
   "metadata": {},
   "outputs": [],
   "source": [
    "#pip install pattern\n",
    "from pattern.en import suggest"
   ]
  },
  {
   "cell_type": "code",
   "execution_count": 7,
   "id": "aadf436e",
   "metadata": {},
   "outputs": [
    {
     "name": "stdout",
     "output_type": "stream",
     "text": [
      "[('message', 0.6216216216216216), ('massage', 0.3783783783783784)]\n",
      "[('service', 0.9253112033195021), ('survive', 0.07468879668049792)]\n",
      "[('the', 0.8653201565642368), ('he', 0.13408515883485067), ('ate', 0.00022706139307570876), ('hate', 0.0002162489457863893), ('hue', 0.00012974936747183358), ('te', 1.0812447289319465e-05), ('htm', 1.0812447289319465e-05)]\n",
      "[('car', 0.5), ('czar', 0.42857142857142855), ('saar', 0.07142857142857142)]\n",
      "[('clear', 0.4251824817518248), ('chair', 0.24635036496350365), ('canal', 0.13138686131386862), ('clair', 0.04927007299270073), ('makar', 0.03467153284671533), ('cigar', 0.02737226277372263), ('caesar', 0.01824817518248175), ('car', 0.012773722627737226), ('czar', 0.010948905109489052), ('bazaar', 0.009124087591240875), ('cava', 0.005474452554744526), ('afar', 0.005474452554744526), ('clara', 0.0036496350364963502), ('cedar', 0.0036496350364963502), ('cabal', 0.0036496350364963502), ('saar', 0.0018248175182481751), ('cavae', 0.0018248175182481751), ('cater', 0.0018248175182481751), ('carer', 0.0018248175182481751), ('caper', 0.0018248175182481751), ('ajar', 0.0018248175182481751), ('agar', 0.0018248175182481751)]\n",
      "[('caesar', 0.6666666666666666), ('bazaar', 0.3333333333333333)]\n",
      "[('caaaaar', 0.0)]\n"
     ]
    }
   ],
   "source": [
    "print(suggest('mussage'))\n",
    "print(suggest('survice'))\n",
    "print(suggest('hte'))\n",
    "print(suggest('caar'))\n",
    "print(suggest('caaar'))\n",
    "print(suggest('caaaar'))\n",
    "print(suggest('caaaaar'))\n",
    "\n"
   ]
  },
  {
   "attachments": {},
   "cell_type": "markdown",
   "id": "16397d02",
   "metadata": {},
   "source": [
    "## WORDNET\n"
   ]
  },
  {
   "attachments": {},
   "cell_type": "markdown",
   "id": "14f49568",
   "metadata": {},
   "source": [
    "built in data to help train models  \n",
    "has data classification  \n",
    "\n",
    "\n",
    "**CLassification**: metrics: Accuracy, F1_score, recall, ROC, KS,  \n",
    "**Regression:** R2 (percentage of variation on Y are influenced by X. I fit is high is a good sign )"
   ]
  },
  {
   "cell_type": "code",
   "execution_count": 8,
   "id": "a00a9490",
   "metadata": {},
   "outputs": [
    {
     "name": "stderr",
     "output_type": "stream",
     "text": [
      "[nltk_data] Downloading package movie_reviews to\n",
      "[nltk_data]     /Users/ivan/nltk_data...\n",
      "[nltk_data]   Package movie_reviews is already up-to-date!\n"
     ]
    },
    {
     "data": {
      "text/plain": [
       "True"
      ]
     },
     "execution_count": 8,
     "metadata": {},
     "output_type": "execute_result"
    }
   ],
   "source": [
    "import nltk\n",
    "from nltk.corpus import movie_reviews\n",
    "nltk.download('movie_reviews')"
   ]
  },
  {
   "cell_type": "code",
   "execution_count": 9,
   "id": "11263803",
   "metadata": {},
   "outputs": [
    {
     "data": {
      "text/plain": [
       "1583820"
      ]
     },
     "execution_count": 9,
     "metadata": {},
     "output_type": "execute_result"
    }
   ],
   "source": [
    "len(movie_reviews.words())"
   ]
  },
  {
   "cell_type": "code",
   "execution_count": 10,
   "id": "e2bd5f16",
   "metadata": {},
   "outputs": [
    {
     "data": {
      "text/plain": [
       "['neg', 'pos']"
      ]
     },
     "execution_count": 10,
     "metadata": {},
     "output_type": "execute_result"
    }
   ],
   "source": [
    "movie_reviews.categories()"
   ]
  },
  {
   "cell_type": "code",
   "execution_count": 11,
   "id": "f0763ec5",
   "metadata": {},
   "outputs": [
    {
     "data": {
      "text/plain": [
       "['neg/cv000_29416.txt',\n",
       " 'neg/cv001_19502.txt',\n",
       " 'neg/cv002_17424.txt',\n",
       " 'neg/cv003_12683.txt',\n",
       " 'neg/cv004_12641.txt']"
      ]
     },
     "execution_count": 11,
     "metadata": {},
     "output_type": "execute_result"
    }
   ],
   "source": [
    "movie_reviews.fileids()[:5]"
   ]
  },
  {
   "attachments": {},
   "cell_type": "markdown",
   "id": "de5fc642",
   "metadata": {},
   "source": [
    "# TExt preprocessing"
   ]
  },
  {
   "cell_type": "code",
   "execution_count": 12,
   "id": "29ed4358",
   "metadata": {},
   "outputs": [],
   "source": [
    "# Remove the punctuations\n",
    "text = \" \".join(movie_reviews.words())\n",
    "import string\n",
    "\n",
    "text_filtered = text.translate(str.maketrans(\"\",\"\", string.punctuation))"
   ]
  },
  {
   "cell_type": "code",
   "execution_count": 13,
   "id": "1f9bae7d",
   "metadata": {},
   "outputs": [
    {
     "name": "stdout",
     "output_type": "stream",
     "text": [
      "1337085\n"
     ]
    }
   ],
   "source": [
    "from nltk.tokenize import word_tokenize\n",
    "text_filtered_tokens= word_tokenize(text_filtered)\n",
    "print(len(text_filtered_tokens)) #words"
   ]
  },
  {
   "cell_type": "code",
   "execution_count": 14,
   "id": "cf3f512d",
   "metadata": {},
   "outputs": [
    {
     "name": "stdout",
     "output_type": "stream",
     "text": [
      "7559896\n"
     ]
    }
   ],
   "source": [
    "print(len(text_filtered)) #letters"
   ]
  },
  {
   "cell_type": "code",
   "execution_count": 15,
   "id": "f3eca101",
   "metadata": {},
   "outputs": [
    {
     "data": {
      "text/plain": [
       "'plot  two '"
      ]
     },
     "execution_count": 15,
     "metadata": {},
     "output_type": "execute_result"
    }
   ],
   "source": [
    "text_filtered[:10]"
   ]
  },
  {
   "cell_type": "code",
   "execution_count": 16,
   "id": "664b675b",
   "metadata": {},
   "outputs": [],
   "source": [
    "# then remove the stopwords and then make all words lowercase"
   ]
  },
  {
   "cell_type": "code",
   "execution_count": 17,
   "id": "39203790",
   "metadata": {},
   "outputs": [],
   "source": [
    "from nltk.corpus import stopwords\n",
    "stopwords = stopwords.words('english')\n",
    "tokens = word_tokenize(text_filtered)\n",
    "word_filtered = [w.lower() for w in tokens if w not in stopwords]"
   ]
  },
  {
   "attachments": {},
   "cell_type": "markdown",
   "id": "f94b0b1a",
   "metadata": {},
   "source": [
    "#### We can use FreqDist() funciton on NLTK to have a dictionary of frequency of appearance of words ina text\n",
    "\n"
   ]
  },
  {
   "cell_type": "code",
   "execution_count": 18,
   "id": "11d81fe1",
   "metadata": {},
   "outputs": [
    {
     "name": "stdout",
     "output_type": "stream",
     "text": [
      "[('film', 9519), ('one', 5853), ('movie', 5774), ('like', 3690), ('even', 2565), ('good', 2411), ('time', 2411), ('story', 2170), ('would', 2110), ('much', 2050), ('character', 2020), ('also', 1967), ('get', 1949), ('two', 1912), ('well', 1906)]\n"
     ]
    }
   ],
   "source": [
    "# Create a dictionary, \n",
    "counter_dict = nltk.FreqDist(word_filtered)\n",
    "print(counter_dict.most_common(15))"
   ]
  },
  {
   "cell_type": "code",
   "execution_count": 19,
   "id": "24e4c094",
   "metadata": {},
   "outputs": [
    {
     "data": {
      "text/plain": [
       "708475"
      ]
     },
     "execution_count": 19,
     "metadata": {},
     "output_type": "execute_result"
    }
   ],
   "source": [
    "len(word_filtered)"
   ]
  },
  {
   "cell_type": "code",
   "execution_count": 20,
   "id": "802d0618",
   "metadata": {},
   "outputs": [
    {
     "name": "stdout",
     "output_type": "stream",
     "text": [
      "39295\n",
      "0.071936 secs from set len\n",
      "39295\n",
      "0.000082 secs, from filtered_word\n"
     ]
    }
   ],
   "source": [
    "import time\n",
    "tic=time.time()\n",
    "print(len(set(word_filtered)))\n",
    "print(\"{:.6f}\".format(time.time()-tic),\"secs from set len\")\n",
    "tic=time.time()\n",
    "print(len(counter_dict))\n",
    "print(\"{:.6f}\".format(time.time()-tic),\"secs, from filtered_word\")\n"
   ]
  },
  {
   "cell_type": "code",
   "execution_count": 21,
   "id": "7827ac6d",
   "metadata": {},
   "outputs": [],
   "source": [
    "docs = [(list(movie_reviews.words(fileid)), category)\n",
    "       for category in movie_reviews.categories()\n",
    "       for fileid in movie_reviews.fileids(category)]\n",
    "\n",
    "# in every category (pos or neg), take entire file ids, (each review own id)\n",
    "# store the word_tokenized version (list of words) for the file id , \n",
    "    # and then followed by pos or neg label in one big list\n",
    "\n",
    "\n"
   ]
  },
  {
   "cell_type": "code",
   "execution_count": 22,
   "id": "01061501",
   "metadata": {},
   "outputs": [
    {
     "data": {
      "text/plain": [
       "2000"
      ]
     },
     "execution_count": 22,
     "metadata": {},
     "output_type": "execute_result"
    }
   ],
   "source": [
    "len(docs)"
   ]
  },
  {
   "cell_type": "code",
   "execution_count": 23,
   "id": "5c40266a",
   "metadata": {},
   "outputs": [
    {
     "name": "stdout",
     "output_type": "stream",
     "text": [
      "neg\n",
      "['plot', ':', 'two', 'teen', 'couples', 'go', 'to', 'a', 'church', 'party']\n"
     ]
    }
   ],
   "source": [
    "print(docs[0][1])\n",
    "print(docs[0][0][:10])"
   ]
  },
  {
   "attachments": {},
   "cell_type": "markdown",
   "id": "4f15a87e",
   "metadata": {},
   "source": [
    "# Feature Extraction\n",
    "creata a list of 3k most frequent words in docs\n",
    "\n"
   ]
  },
  {
   "cell_type": "code",
   "execution_count": null,
   "id": "b548456a",
   "metadata": {},
   "outputs": [],
   "source": []
  },
  {
   "cell_type": "code",
   "execution_count": 24,
   "id": "7fdac8f1",
   "metadata": {},
   "outputs": [],
   "source": [
    "word_features = [w[0] for w in counter_dict.most_common(3000)]\n",
    "\n",
    "def search_features(doc):\n",
    "    words = set(doc)\n",
    "    features = {}\n",
    "    for w in word_features:\n",
    "        features[w] = (w in words)\n",
    "    return features"
   ]
  },
  {
   "cell_type": "code",
   "execution_count": 32,
   "id": "58334398",
   "metadata": {},
   "outputs": [],
   "source": [
    "featureset = [(search_features(doc), category) for (doc, category) in docs]\n",
    "# featureset[:10]"
   ]
  },
  {
   "attachments": {},
   "cell_type": "markdown",
   "id": "e3ef3551",
   "metadata": {},
   "source": [
    "## Train SET"
   ]
  },
  {
   "attachments": {},
   "cell_type": "markdown",
   "id": "0cb21429",
   "metadata": {},
   "source": []
  },
  {
   "cell_type": "code",
   "execution_count": 33,
   "id": "b7869243",
   "metadata": {},
   "outputs": [],
   "source": [
    "training_set = featureset[:1600]\n",
    "testing_set = featureset[1600:]"
   ]
  },
  {
   "attachments": {},
   "cell_type": "markdown",
   "id": "85057850",
   "metadata": {},
   "source": [
    "# Demonstrate the training of the text classification model (Naive Bayes)"
   ]
  },
  {
   "cell_type": "code",
   "execution_count": 34,
   "id": "951bf277",
   "metadata": {},
   "outputs": [],
   "source": [
    "# Training\n",
    "classifier = nltk.NaiveBayesClassifier.train(training_set)"
   ]
  },
  {
   "cell_type": "code",
   "execution_count": 35,
   "id": "947340ee",
   "metadata": {},
   "outputs": [
    {
     "name": "stdout",
     "output_type": "stream",
     "text": [
      "Accuracy is: 73.75\n"
     ]
    }
   ],
   "source": [
    "# Analyze\n",
    "print(\"Accuracy is:\", nltk.classify.accuracy(classifier, testing_set)*100)"
   ]
  },
  {
   "attachments": {},
   "cell_type": "markdown",
   "id": "7ec1f73d",
   "metadata": {},
   "source": [
    "## Decision Tree Classifier "
   ]
  },
  {
   "attachments": {},
   "cell_type": "markdown",
   "id": "0380295d",
   "metadata": {},
   "source": [
    "dt_classifier = nltk.DecisionTreeClassifier.train(training_set)\n",
    "print(\"Accuracy is:\", nltk.classify.accuracy(dt_classifier, testing_set)*100)"
   ]
  },
  {
   "attachments": {},
   "cell_type": "markdown",
   "id": "03f43b0e",
   "metadata": {},
   "source": [
    "## Sklearn Classifier"
   ]
  },
  {
   "attachments": {},
   "cell_type": "markdown",
   "id": "22c0b1c2",
   "metadata": {},
   "source": [
    "skl_classifier = nltk.SklearnClassifier.train(training_set)\n",
    "print(\"Accuracy is:\", nltk.classify.accuracy(skl_classifier, testing_set)*100)"
   ]
  },
  {
   "attachments": {},
   "cell_type": "markdown",
   "id": "97a0f47e",
   "metadata": {},
   "source": []
  }
 ],
 "metadata": {
  "kernelspec": {
   "display_name": "Python 3 (ipykernel)",
   "language": "python",
   "name": "python3"
  },
  "language_info": {
   "codemirror_mode": {
    "name": "ipython",
    "version": 3
   },
   "file_extension": ".py",
   "mimetype": "text/x-python",
   "name": "python",
   "nbconvert_exporter": "python",
   "pygments_lexer": "ipython3",
   "version": "3.9.12"
  }
 },
 "nbformat": 4,
 "nbformat_minor": 5
}
