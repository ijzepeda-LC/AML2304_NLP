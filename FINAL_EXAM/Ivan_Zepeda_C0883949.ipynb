{
 "cells": [
  {
   "cell_type": "markdown",
   "metadata": {},
   "source": [
    "# Question 1 (10 marks)"
   ]
  },
  {
   "cell_type": "markdown",
   "metadata": {},
   "source": [
    "Use a function and input method\n",
    "\n",
    "You are given a large integer represented as an integer array digits, where each digits[i] is the ith digit of the integer. The digits are ordered from most significant to least significant in left-to-right order. The large integer does not contain any leading 0's.\n",
    "\n",
    "Increment the large integer by one and return the resulting array of digits.\n",
    "\n",
    " Example 1:\n",
    "\n",
    "Input: digits = [1,2,3]\n",
    "\n",
    "Output: [1,2,4]\n",
    "\n",
    "Explanation: The array represents the integer 123.\n",
    "\n",
    "Incrementing by one gives 123 + 1 = 124.\n",
    "\n",
    "Thus, the result should be [1,2,4]."
   ]
  },
  {
   "cell_type": "code",
   "execution_count": 9,
   "metadata": {},
   "outputs": [
    {
     "name": "stdout",
     "output_type": "stream",
     "text": [
      "[1, 2, 4]\n"
     ]
    }
   ],
   "source": [
    "#Answer\n",
    "def incrementer(nums):\n",
    "    if(type(nums)==str):\n",
    "        nums=nums.split(',')\n",
    "        nums=[int(x) for x in nums] #convert to int\n",
    "       # \"\".join(nums) Doesnt wokr with int\n",
    "    nums_int=\"\"\n",
    "    for c in nums:\n",
    "        nums_int+=str(c)\n",
    "    nums_int=int(nums_int)\n",
    "    nums_int+=1\n",
    "    result=[]\n",
    "    for c in str(nums_int):\n",
    "        result.append(int(c))\n",
    "    return result\n",
    "print(incrementer([1,2,3]))"
   ]
  },
  {
   "cell_type": "code",
   "execution_count": 10,
   "metadata": {},
   "outputs": [
    {
     "name": "stdout",
     "output_type": "stream",
     "text": [
      "Enter diferent numbers separated by comma1,2,3\n",
      "[1, 2, 4]\n"
     ]
    }
   ],
   "source": [
    "print(incrementer(input(\"Enter diferent numbers separated by comma \")))"
   ]
  },
  {
   "cell_type": "markdown",
   "metadata": {},
   "source": [
    "# Question 2 (15 marks)"
   ]
  },
  {
   "cell_type": "markdown",
   "metadata": {},
   "source": [
    "Use a function and input method !\n",
    "\n",
    "A string is called a happy prefix if is a non-empty prefix which is also a suffix (excluding itself).\n",
    "\n",
    "Given a string s, return the longest happy prefix of s. Return an empty string \"\" if no such prefix exists.\n",
    "\n",
    "Example 1:\n",
    "\n",
    "Input: s = \"level\"\n",
    "\n",
    "Output: \"l\"\n",
    "\n",
    "Explanation: s contains 4 prefix excluding itself (\"l\", \"le\", \"lev\", \"leve\"), and suffix (\"l\", \"el\", \"vel\", \"evel\"). The largest prefix which is also suffix is given by \"l\".\n",
    "\n",
    "Example 2:\n",
    "\n",
    "Input: s = \"ababab\"\n",
    "\n",
    "Output: \"abab\"\n",
    "\n",
    "Explanation: \"abab\" is the largest prefix which is also suffix. They can overlap in the original string.\n"
   ]
  },
  {
   "cell_type": "code",
   "execution_count": 69,
   "metadata": {},
   "outputs": [
    {
     "name": "stdout",
     "output_type": "stream",
     "text": [
      "Max prefix: l\n",
      "Max prefix: abab\n"
     ]
    },
    {
     "data": {
      "text/plain": [
       "2"
      ]
     },
     "execution_count": 69,
     "metadata": {},
     "output_type": "execute_result"
    }
   ],
   "source": [
    "#Answer\n",
    "def happy_prefix(text):\n",
    "    counter=0\n",
    "    counter_max=0\n",
    "    happy=\"\"\n",
    "    index=0\n",
    "    for i in range(1,len(text)+1):\n",
    "        if(text[:i]==text[-(i):]):\n",
    "            counter+=1\n",
    "            index=i\n",
    "        else:\n",
    "            if (counter> counter_max):\n",
    "                counter_max=counter\n",
    "                happy=text[-(index):]\n",
    "#             counter=0\n",
    "    print(\"Max prefix: {}\".format( happy))\n",
    "    return counter_max\n",
    "happy_prefix(\"level\") \n",
    "happy_prefix(\"ababab\") "
   ]
  },
  {
   "cell_type": "code",
   "execution_count": null,
   "metadata": {},
   "outputs": [],
   "source": []
  },
  {
   "cell_type": "code",
   "execution_count": 31,
   "metadata": {},
   "outputs": [
    {
     "name": "stdout",
     "output_type": "stream",
     "text": [
      "Give a text for its mas prefix: level\n",
      "Max prefix: l\n"
     ]
    },
    {
     "data": {
      "text/plain": [
       "1"
      ]
     },
     "execution_count": 31,
     "metadata": {},
     "output_type": "execute_result"
    }
   ],
   "source": [
    "happy_prefix(input(\"Give a text for its mas prefix: \"))"
   ]
  },
  {
   "cell_type": "markdown",
   "metadata": {},
   "source": [
    "# Question 3 (15 Marks)"
   ]
  },
  {
   "cell_type": "markdown",
   "metadata": {},
   "source": [
    "Use a function and input method !\n",
    "\n",
    "Given a string s and a dictionary of strings wordDict, add spaces in s to construct a sentence where each word is a valid dictionary word. Return all such possible sentences in any order.\n",
    "\n",
    "Note that the same word in the dictionary may be reused multiple times in the segmentation.\n",
    "\n",
    "Example 1:\n",
    "\n",
    "Input: \n",
    "\n",
    "s = \"catsanddog\"\n",
    "\n",
    "wordDict = [\"cat\",\"cats\",\"and\",\"sand\",\"dog\"]\n",
    "\n",
    "Output: [\"cats and dog\",\"cat sand dog\"]\n",
    "\n",
    "Example 2:\n",
    "\n",
    "Input: \n",
    "s = \"pineapplepenapple\"\n",
    "\n",
    "wordDict = [\"apple\",\"pen\",\"applepen\",\"pine\",\"pineapple\"]\n",
    "\n",
    "Output: [\"pine apple pen apple\",\"pineapple pen apple\",\"pine applepen apple\"] \n",
    "\n",
    "Explanation: Note that you are allowed to reuse a dictionary word."
   ]
  },
  {
   "cell_type": "code",
   "execution_count": null,
   "metadata": {},
   "outputs": [],
   "source": [
    "#Answer\n",
    "\n",
    "#There are different ways to interpret this question. \n",
    "#The output can be an unique string/ or list with similar sentences, and not all variables. \n",
    "#And what is the limit of a sentence if it is posisble to reuse the words in the dictionary"
   ]
  },
  {
   "cell_type": "code",
   "execution_count": 61,
   "metadata": {},
   "outputs": [
    {
     "name": "stdout",
     "output_type": "stream",
     "text": [
      "['cat', 'cat cats', 'cat cats and', 'cat cats and sand', 'cat cats and sand dog']\n",
      "['apple', 'apple pen', 'apple pen applepen', 'apple pen applepen pine', 'apple pen applepen pine pineapple']\n"
     ]
    }
   ],
   "source": [
    "\n",
    "def sentence_builder2(s, wordDict):\n",
    "    \n",
    "    if(type(wordDict)==str):\n",
    "        wordDict=wordDict.split(',')\n",
    "    all_sentences=[]\n",
    "    sentences=[]\n",
    "    sent=\"\"\n",
    "    for w in wordDict:\n",
    "        if(w in s):\n",
    "            sent+=w+\" \"\n",
    "        sentences.append(sent.strip())\n",
    "    print(sentences)\n",
    "\n",
    "sentence_builder2(\"catsanddog\", [\"cat\",\"cats\",\"and\",\"sand\",\"dog\"])\n",
    "sentence_builder2(\"pineapplepenapple\", [\"apple\",\"pen\",\"applepen\",\"pine\",\"pineapple\"])\n"
   ]
  },
  {
   "cell_type": "code",
   "execution_count": 59,
   "metadata": {},
   "outputs": [],
   "source": [
    "def sentence_builder(s, wordDict):    \n",
    "    \"\"\" add spaces in s to construct a sentence where each word is a valid dictionary word. \n",
    "    Return all such possible sentences in any order.\n",
    "    Note that the same word in the dictionary may be reused multiple times in the segmentation.\n",
    "    \"\"\"\n",
    "    if(type(wordDict)==str):\n",
    "        wordDict=wordDict.split(',')\n",
    "    print(s, wordDict)\n",
    "    \n",
    "    \n",
    "    "
   ]
  },
  {
   "cell_type": "code",
   "execution_count": 60,
   "metadata": {},
   "outputs": [
    {
     "name": "stdout",
     "output_type": "stream",
     "text": [
      "give a string: asdbasbda\n",
      "give many words separated by comma: cat,casd,asdasd\n",
      "asdbasbda ['cat', 'casd', 'asdasd']\n"
     ]
    }
   ],
   "source": [
    "\n",
    "sentence_builder(input(\"give a string: \"),input(\"give many words separated by comma: \"))"
   ]
  },
  {
   "cell_type": "code",
   "execution_count": 62,
   "metadata": {
    "scrolled": false
   },
   "outputs": [
    {
     "name": "stdout",
     "output_type": "stream",
     "text": [
      "catsanddog ['cat', 'cats', 'and', 'sand', 'dog']\n",
      "pineapplepenapple ['apple', 'pen', 'applepen', 'pine', 'pineapple']\n"
     ]
    }
   ],
   "source": [
    "def sentence_builder1(s, wordDict):\n",
    "    \n",
    "    if(type(wordDict)==str):\n",
    "        wordDict=wordDict.split(',')\n",
    "    all_sentences=[]\n",
    "    sentences=[]\n",
    "    for i in range(len(s)):\n",
    "        sentence=\"\"\n",
    "        for j in range(1+i, len(s)+1):\n",
    "            if(s[i:j] in wordDict):\n",
    "                sentence=s[i:j]+\" \"\n",
    "                break\n",
    "               \n",
    "            \n",
    "        sentences.append(sentence)\n",
    "    all_sentences.append(\"\".join(sentences))\n",
    "    print(all_sentences)\n",
    "    \n",
    "    \n",
    "    \n",
    "#     sentences=[]\n",
    "#     sentence=\"\"\n",
    "# #     while( sentence!=\"\"):\n",
    "#     for w in wordDict:\n",
    "#         print(w)\n",
    "#         if (w in s):\n",
    "#             print(\">\")\n",
    "#             sentence+=w+\" \"\n",
    "#     sentences.append(sentence)\n",
    "#     sentence=\"\"\n",
    "#     print(sentences)\n",
    "    \n",
    "\n",
    "sentence_builder(\"catsanddog\", [\"cat\",\"cats\",\"and\",\"sand\",\"dog\"])\n",
    "sentence_builder(\"pineapplepenapple\", [\"apple\",\"pen\",\"applepen\",\"pine\",\"pineapple\"])"
   ]
  },
  {
   "cell_type": "code",
   "execution_count": null,
   "metadata": {},
   "outputs": [],
   "source": []
  },
  {
   "cell_type": "markdown",
   "metadata": {},
   "source": [
    "# Good Luck "
   ]
  },
  {
   "cell_type": "markdown",
   "metadata": {},
   "source": [
    "Thanks!"
   ]
  }
 ],
 "metadata": {
  "kernelspec": {
   "display_name": "Python 3 (ipykernel)",
   "language": "python",
   "name": "python3"
  },
  "language_info": {
   "codemirror_mode": {
    "name": "ipython",
    "version": 3
   },
   "file_extension": ".py",
   "mimetype": "text/x-python",
   "name": "python",
   "nbconvert_exporter": "python",
   "pygments_lexer": "ipython3",
   "version": "3.9.12"
  }
 },
 "nbformat": 4,
 "nbformat_minor": 2
}
