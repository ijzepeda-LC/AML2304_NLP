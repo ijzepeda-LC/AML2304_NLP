{
 "cells": [
  {
   "cell_type": "markdown",
   "metadata": {},
   "source": [
    "# Question 1 (10 marks)"
   ]
  },
  {
   "cell_type": "markdown",
   "metadata": {},
   "source": [
    "Write a function to find the longest common prefix string, exluding any non-character items amongst an array of strings.\n",
    "\n",
    "use input method to test your soloution\n",
    "\n",
    "If there is no common Prefix, return 'no commom prefix.\n",
    "\n",
    "Pay attention to the below examples to see other requirements\n",
    "\n",
    "Example 1:\n",
    "\n",
    "Input: strs = [\"FLitowerqwer\",\"fl2itqwertf\", \"f@l$%i^tvhytds\"]\n",
    "\n",
    "Output: \"flit\"\n",
    "\n",
    "Example 2:\n",
    "\n",
    "Input: strs = [\"Shaampi\",\"racecar\",\"car\"]\n",
    "\n",
    "Output: \"no common prefix\"\n",
    "\n",
    "Explanation: There is no common prefix among the input strings.\n"
   ]
  },
  {
   "cell_type": "code",
   "execution_count": 57,
   "metadata": {},
   "outputs": [
    {
     "name": "stdout",
     "output_type": "stream",
     "text": [
      "Type first String FLitowerqwer\n",
      "Type second String fl2itqwertf\n",
      "Type third String f@l$%i^tvhytds\n",
      "flitowerqwer flitqwertf flitvhytds\n"
     ]
    },
    {
     "data": {
      "text/plain": [
       "'flit'"
      ]
     },
     "execution_count": 57,
     "metadata": {},
     "output_type": "execute_result"
    }
   ],
   "source": [
    "#Answer\n",
    "def get_prefix_approach2(stra, strb, strc):\n",
    "    strings_cleaned=[]\n",
    "   \n",
    "    \n",
    "    temp=\"\"\n",
    "    for c in stra:\n",
    "        if (c.isalpha()):\n",
    "            temp+=c.lower()\n",
    "    stra=temp\n",
    "    \n",
    "    temp=\"\"\n",
    "    for c in strb:\n",
    "        if (c.isalpha()):\n",
    "            temp+=c.lower()\n",
    "    strb=temp\n",
    "    \n",
    "    temp=\"\"\n",
    "    for c in strc:\n",
    "        if (c.isalpha()):\n",
    "            temp+=c.lower()\n",
    "    strc=temp\n",
    "    \n",
    "    print(stra,strb,strc)\n",
    "    #compare stra to strb and strc\n",
    "    max_suffix=\"\"\n",
    "    for i in range(0,len(stra)):\n",
    "        for j in range(i+1, len(stra)+1):\n",
    "            if ((stra[i:j] in strb) and (stra[i:j] in strc)):\n",
    "                if(len(stra[i:j]) > len(max_suffix)):\n",
    "                    max_suffix=stra[i:j]\n",
    "    if(max_suffix!=\"\"):\n",
    "        return max_suffix\n",
    "    else:\n",
    "        return \"no common prefix\"\n",
    "                \n",
    "    \n",
    "    \n",
    "    \n",
    "get_prefix_approach2(input(\"Type first String \"),input(\"Type second String \"),input(\"Type third String \"))\n",
    "# get_prefix_approach2(\"FLitowerqwer\",\"fl2itqwertf\", \"f@l$%i^tvhytds\")"
   ]
  },
  {
   "cell_type": "code",
   "execution_count": null,
   "metadata": {},
   "outputs": [],
   "source": [
    "#Answer\n",
    "\n",
    "# THis is approach 1, with an array\n",
    "\n",
    "# What is the smallest prefix length?\n",
    "\n",
    "# if I expect 3 strings, or do I expect a list of strings\n",
    "# def get_prefix(stra, strb, strc):\n",
    "def get_prefix(strings):\n",
    "    strings_cleaned=[]\n",
    "   \n",
    "    for s in strings:\n",
    "        temp=\"\"\n",
    "        for c in s:\n",
    "            if (c.isalpha()):\n",
    "                #clean string \n",
    "                temp+= c.lower()\n",
    "        strings_cleaned.append(temp)\n",
    "    print(strings_cleaned)\n",
    "    \n",
    "    #getting the smallest prefix:\n",
    "#     using the first string as base\n",
    "    base=strings_cleaned[0]\n",
    "    match_dic={}\n",
    "    for string in strings_cleaned[1:]:\n",
    "        temp_suffix=\"\"\n",
    "        for i in range(0,len(base)):\n",
    "            for j in range(i+1, len(base)+1):\n",
    "                if(base[i:j] in string):\n",
    "#                     print(\"the substring in {} is {}\".format(string, base[i:j]))\n",
    "                    if(len(base[i:j])>=len(temp_suffix)):\n",
    "                        temp_suffix=base[i:j]\n",
    "#                 else:\n",
    "#                     print(\"nothing found\")\n",
    "        if temp_suffix in match_dic.keys():\n",
    "            match_dic[temp_suffix]=match_dic[temp_suffix]+1\n",
    "        else:\n",
    "            match_dic[temp_suffix]=1\n",
    "        print(match_dic)\n",
    "    #reverse dictionary\n",
    "    reverse_dict={v:k for k,v in match_dic.items()}\n",
    "    if(len(strings) in reverse_dict.keys()):\n",
    "        return reverse_dict[len(string)]\n",
    "    else:\n",
    "        return \"no common prefix\"\n",
    "    \n",
    "    \n",
    "# get_prefix(input(\"Type first String \"),input(\"Type second String \"),input(\"Type third String \"))\n",
    "get_prefix(input(\"Type strings separated by space \"))\n",
    "get_prefix([\"FLitowerqwer\",\"fl2itqwertf\", \"f@l$%i^tvhytds\"])"
   ]
  },
  {
   "cell_type": "code",
   "execution_count": null,
   "metadata": {},
   "outputs": [],
   "source": []
  },
  {
   "cell_type": "markdown",
   "metadata": {},
   "source": [
    "# Question 2 (10 marks)"
   ]
  },
  {
   "cell_type": "markdown",
   "metadata": {},
   "source": [
    "Given an array of integers heights representing the histogram's bar height where the width of each bar is 1, return the area of the SMALLEST rectangle which uses at least 3 columns from the histogram.\n",
    "\n",
    "\n",
    "Explanation: The above is a histogram where width of each bar is 1.\n"
   ]
  },
  {
   "cell_type": "code",
   "execution_count": 67,
   "metadata": {},
   "outputs": [
    {
     "name": "stdout",
     "output_type": "stream",
     "text": [
      "bar 2, len1\n",
      "bar 2, len2\n",
      "bar 2, len3\n",
      "bar 2, len4\n",
      "bar 2, len5\n",
      "bar 2, len6\n",
      "bar 2, len7\n",
      "bar 2, len8\n",
      "bar 2, len9\n",
      "bar 3, len2\n",
      "bar 3, len3\n",
      "bar 3, len4\n",
      "bar 3, len5\n",
      "bar 3, len6\n",
      "bar 3, len7\n",
      "bar 3, len8\n",
      "bar 5, len3\n",
      "bar 5, len4\n",
      "bar 5, len5\n",
      "bar 5, len6\n",
      "bar 5, len7\n",
      "bar 6, len4\n",
      "bar 6, len5\n",
      "bar 6, len6\n",
      "bar 7, len4\n",
      "bar 7, len5\n",
      "bar 9, len4\n",
      "bar 5, len3\n",
      "bar 5, len4\n",
      "bar 5, len5\n",
      "bar 5, len6\n",
      "bar 5, len7\n",
      "bar 3, len2\n",
      "bar 3, len3\n",
      "bar 3, len4\n",
      "bar 3, len5\n",
      "bar 3, len6\n",
      "bar 3, len7\n",
      "bar 3, len8\n",
      "bar 2, len1\n",
      "bar 2, len2\n",
      "bar 2, len3\n",
      "bar 2, len4\n",
      "bar 2, len5\n",
      "bar 2, len6\n",
      "bar 2, len7\n",
      "bar 2, len8\n",
      "bar 2, len9\n",
      "bar 1, len0\n",
      "bar 1, len1\n",
      "bar 1, len2\n",
      "bar 1, len3\n",
      "bar 1, len4\n",
      "bar 1, len5\n",
      "bar 1, len6\n",
      "bar 1, len7\n",
      "bar 1, len8\n",
      "bar 1, len9\n"
     ]
    },
    {
     "data": {
      "text/plain": [
       "36"
      ]
     },
     "execution_count": 67,
     "metadata": {},
     "output_type": "execute_result"
    }
   ],
   "source": [
    "#Answer\n",
    "def get_rectangle(heights):\n",
    "    # The idea is to emasure the current height to the next, if the next is higher it will still count as rectangle\n",
    "    area=0\n",
    "    for i,bar in enumerate(heights):\n",
    "        temp_area=0\n",
    "        for j,bari in enumerate(heights[::-1]):\n",
    "            if(bar<=bari):\n",
    "                temp_area=(len(heights[:j]))*bar\n",
    "                print(\"bar {}, len{}\".format(bar, (len(heights[:j]))))\n",
    "        \n",
    "        if(temp_area>area):\n",
    "            area=temp_area\n",
    "    return area\n",
    "    \n",
    "    \n",
    "get_rectangle([2,3,5,6,7,9,5,3,2,1])"
   ]
  },
  {
   "cell_type": "code",
   "execution_count": null,
   "metadata": {},
   "outputs": [],
   "source": []
  },
  {
   "cell_type": "markdown",
   "metadata": {},
   "source": [
    "# Question 3 (15 marks)"
   ]
  },
  {
   "cell_type": "markdown",
   "metadata": {},
   "source": [
    "An alphabetical continuous string is a string consisting of consecutive letters in the alphabet. In other words, it is any substring of the string \"abcdefghijklmnopqrstuvwxyz\".\n",
    "\n",
    "For example, \"abc\" is an alphabetical continuous string, while \"acb\" and \"za\" are not.\n",
    "Given a string s consisting of lowercase letters only, return the length of the longest alphabetical continuous substring.\n",
    "\n",
    " \n",
    "\n",
    "Example 1:\n",
    "\n",
    "Input: s = \"abacaba\"\n",
    "\n",
    "Output: 2\n",
    "\n",
    "Explanation: There are 4 distinct continuous substrings: \"a\", \"b\", \"c\" and \"ab\".\n",
    "\"ab\" is the longest continuous substring.\n",
    "\n",
    "Example 2:\n",
    "\n",
    "Input: s = \"abcde\"\n",
    "\n",
    "Output: 5\n",
    "\n",
    "Explanation: \"abcde\" is the longest continuous substring."
   ]
  },
  {
   "cell_type": "code",
   "execution_count": 31,
   "metadata": {},
   "outputs": [
    {
     "name": "stdout",
     "output_type": "stream",
     "text": [
      "5 5\n",
      "7 7\n",
      "5 5\n",
      "2 2\n",
      "8 8\n"
     ]
    }
   ],
   "source": [
    "#Answer\n",
    "\n",
    "def get_max_alpha_seq(string):\n",
    "    abc=\"abcdefghijklmnopqrstuvwxyz\"\n",
    "    max_seq=0\n",
    "    string=string.lower()\n",
    "    for i in range(0,len(string)):\n",
    "        for j in range(i,len(string)+1):\n",
    "            if(string[i:j] in abc):\n",
    "                if(len(string[i:j])>=max_seq):\n",
    "                    max_seq=len(string[i:j])\n",
    "    return max_seq\n",
    "            \n",
    "    \n",
    "    \n",
    "print(get_max_alpha_seq(\"abcde\"),\"5\")\n",
    "print(get_max_alpha_seq(\"abcdefg\"),\"7\")\n",
    "print(get_max_alpha_seq(\"abCDegh\"),\"5\")\n",
    "print(get_max_alpha_seq(\"abacaba\"), \"2\")\n",
    "print(get_max_alpha_seq(\"fuwnabcdelamabcdefghs\"),\"8\")\n",
    "# \n",
    "\n"
   ]
  },
  {
   "cell_type": "code",
   "execution_count": null,
   "metadata": {},
   "outputs": [],
   "source": []
  },
  {
   "cell_type": "code",
   "execution_count": null,
   "metadata": {},
   "outputs": [],
   "source": []
  },
  {
   "cell_type": "markdown",
   "metadata": {},
   "source": [
    "# Good Luck "
   ]
  },
  {
   "cell_type": "code",
   "execution_count": null,
   "metadata": {},
   "outputs": [],
   "source": []
  },
  {
   "cell_type": "code",
   "execution_count": null,
   "metadata": {},
   "outputs": [],
   "source": []
  }
 ],
 "metadata": {
  "kernelspec": {
   "display_name": "Python 3 (ipykernel)",
   "language": "python",
   "name": "python3"
  },
  "language_info": {
   "codemirror_mode": {
    "name": "ipython",
    "version": 3
   },
   "file_extension": ".py",
   "mimetype": "text/x-python",
   "name": "python",
   "nbconvert_exporter": "python",
   "pygments_lexer": "ipython3",
   "version": "3.9.12"
  }
 },
 "nbformat": 4,
 "nbformat_minor": 2
}
